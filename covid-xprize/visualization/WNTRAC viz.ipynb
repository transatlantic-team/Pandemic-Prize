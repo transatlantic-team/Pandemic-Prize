{
 "cells": [
  {
   "cell_type": "code",
   "execution_count": 1,
   "metadata": {},
   "outputs": [],
   "source": [
    "import os\n",
    "from pprint import pprint\n",
    "import warnings\n",
    "\n",
    "warnings.filterwarnings(\"ignore\")\n",
    "\n",
    "import ipywidgets as widgets\n",
    "from ipywidgets import interact\n",
    "\n",
    "import pandas as pd\n",
    "import numpy as np\n",
    "import matplotlib.pyplot as plt\n",
    "from matplotlib.dates import (DateFormatter, MO, WeekdayLocator)\n",
    "import seaborn as sns\n",
    "\n",
    "import plotly.express as px\n",
    "import requests\n",
    "import datetime\n",
    "import re\n",
    "import glob\n",
    "import pycountry"
   ]
  },
  {
   "cell_type": "code",
   "execution_count": 2,
   "metadata": {},
   "outputs": [],
   "source": [
    "%matplotlib inline\n",
    "import matplotlib as mpl\n",
    "mpl.rcParams['figure.dpi']= 150"
   ]
  },
  {
   "cell_type": "markdown",
   "metadata": {},
   "source": [
    "## Load the Data"
   ]
  },
  {
   "cell_type": "code",
   "execution_count": 3,
   "metadata": {},
   "outputs": [],
   "source": [
    "def update_data(DATA_PATH='../data/'):\n",
    "    import zipfile\n",
    "    # readme from data repo\n",
    "    README_URL = 'https://raw.githubusercontent.com/IBM/wntrac/master/data/README.md'\n",
    "    DATA_PATH = DATA_PATH.strip('/')\n",
    "    # regex to find links in markdown\n",
    "    mdlink_regex = r\"\\[(\\S+)\\]\\((\\S+)\\)\"\n",
    "    # recover text from README.md, find all links\n",
    "    readme_text = requests.get(README_URL).text\n",
    "    matches = re.findall(mdlink_regex, readme_text)\n",
    "    # discard non-date links\n",
    "    dates = [match for match in matches if '-' in match[0]]\n",
    "    # sort dates in descending order\n",
    "    dates.sort(key = lambda date: datetime.datetime.strptime(date[0], '%Y-%m-%d'), reverse=True)\n",
    "    # recover repo location of lastest dataset\n",
    "    lastest_relurl = dates[0][1].split('..')[-1]\n",
    "    REPO_URL = 'https://github.com/IBM/wntrac'\n",
    "    DATA_URL = REPO_URL + lastest_relurl\n",
    "    # Local file: base dir, data\n",
    "    DATA_FILE = DATA_PATH + '/' + lastest_relurl.split('/')[-1]\n",
    "    os.makedirs(DATA_PATH, exist_ok=True)\n",
    "    # check if data already downloaded\n",
    "    if os.path.exists(DATA_FILE):\n",
    "        print(f'WNTRAC already up to date ({dates[0][0]}), nothing new downloaded')\n",
    "    else:\n",
    "        # get byte response and save to file\n",
    "        r = requests.get(DATA_URL, stream=True)\n",
    "        with open(DATA_FILE, 'wb') as fd:\n",
    "            for chunk in r.iter_content(chunk_size=128):\n",
    "                fd.write(chunk)\n",
    "        print(f'WNTRAC updated to {dates[0][0]}')\n",
    "        # extract zip\n",
    "        with zipfile.ZipFile(DATA_FILE, 'r') as zip_ref:\n",
    "            zip_ref.extractall(DATA_PATH)\n",
    "        print(f'WNTRAC extracted to {DATA_PATH}')"
   ]
  },
  {
   "cell_type": "code",
   "execution_count": 4,
   "metadata": {},
   "outputs": [
    {
     "data": {
      "text/plain": [
       "'C:\\\\Users\\\\marti\\\\Desktop\\\\Projects\\\\Pandemic-Prize\\\\covid-xprize\\\\visualization'"
      ]
     },
     "execution_count": 4,
     "metadata": {},
     "output_type": "execute_result"
    }
   ],
   "source": [
    "# Your current working directory\n",
    "os.getcwd()"
   ]
  },
  {
   "cell_type": "code",
   "execution_count": 5,
   "metadata": {},
   "outputs": [
    {
     "name": "stdout",
     "output_type": "stream",
     "text": [
      "WNTRAC already up to date (2020-11-30), nothing new downloaded\n"
     ]
    }
   ],
   "source": [
    "update_data()"
   ]
  },
  {
   "cell_type": "code",
   "execution_count": 6,
   "metadata": {},
   "outputs": [
    {
     "name": "stdout",
     "output_type": "stream",
     "text": [
      "Available data:\n",
      "['../data\\\\ibm-wntrac-2020-11-30-events.csv',\n",
      " '../data\\\\ibm-wntrac-2020-11-30-evidences.csv',\n",
      " '../data\\\\OxCGRT_latest.csv']\n"
     ]
    }
   ],
   "source": [
    "print('Available data:')\n",
    "pprint(glob.glob('../data/*.csv', recursive=True))"
   ]
  },
  {
   "cell_type": "code",
   "execution_count": 7,
   "metadata": {},
   "outputs": [],
   "source": [
    "csv_path = '../data/ibm-wntrac-2020-11-30-events.csv'\n",
    "\n",
    "df = pd.read_csv(csv_path)"
   ]
  },
  {
   "cell_type": "markdown",
   "metadata": {},
   "source": [
    "## Print Data Types"
   ]
  },
  {
   "cell_type": "code",
   "execution_count": 8,
   "metadata": {},
   "outputs": [
    {
     "name": "stdout",
     "output_type": "stream",
     "text": [
      "8 columns\n",
      "\n",
      "type               object\n",
      "country            object\n",
      "state/province     object\n",
      "epoch             float64\n",
      "even_id            object\n",
      "date               object\n",
      "value              object\n",
      "restriction         int64\n",
      "dtype: object\n"
     ]
    }
   ],
   "source": [
    "columns = list(df.columns)\n",
    "print(f\"{len(columns)} columns\\n\")\n",
    "\n",
    "print(df.dtypes)"
   ]
  },
  {
   "cell_type": "code",
   "execution_count": 9,
   "metadata": {},
   "outputs": [
    {
     "data": {
      "text/html": [
       "<div>\n",
       "<style scoped>\n",
       "    .dataframe tbody tr th:only-of-type {\n",
       "        vertical-align: middle;\n",
       "    }\n",
       "\n",
       "    .dataframe tbody tr th {\n",
       "        vertical-align: top;\n",
       "    }\n",
       "\n",
       "    .dataframe thead th {\n",
       "        text-align: right;\n",
       "    }\n",
       "</style>\n",
       "<table border=\"1\" class=\"dataframe\">\n",
       "  <thead>\n",
       "    <tr style=\"text-align: right;\">\n",
       "      <th></th>\n",
       "      <th>type</th>\n",
       "      <th>country</th>\n",
       "      <th>date</th>\n",
       "      <th>value</th>\n",
       "      <th>restriction</th>\n",
       "    </tr>\n",
       "  </thead>\n",
       "  <tbody>\n",
       "    <tr>\n",
       "      <th>0</th>\n",
       "      <td>introduction of travel quarantine policies</td>\n",
       "      <td>COM</td>\n",
       "      <td>2020-04-01</td>\n",
       "      <td>na</td>\n",
       "      <td>1</td>\n",
       "    </tr>\n",
       "    <tr>\n",
       "      <th>1</th>\n",
       "      <td>school closure</td>\n",
       "      <td>ZAF</td>\n",
       "      <td>2020-03-22</td>\n",
       "      <td>Only schools (primary/secondary) closed</td>\n",
       "      <td>1</td>\n",
       "    </tr>\n",
       "    <tr>\n",
       "      <th>2</th>\n",
       "      <td>entertainment/cultural sector closure</td>\n",
       "      <td>NGA</td>\n",
       "      <td>2020-03-24</td>\n",
       "      <td>Churches</td>\n",
       "      <td>1</td>\n",
       "    </tr>\n",
       "    <tr>\n",
       "      <th>3</th>\n",
       "      <td>entertainment/cultural sector closure</td>\n",
       "      <td>COL</td>\n",
       "      <td>2020-07-05</td>\n",
       "      <td>Bars, restaurants, night clubs</td>\n",
       "      <td>1</td>\n",
       "    </tr>\n",
       "    <tr>\n",
       "      <th>4</th>\n",
       "      <td>entertainment/cultural sector closure</td>\n",
       "      <td>CMR</td>\n",
       "      <td>2021-06-01</td>\n",
       "      <td>na</td>\n",
       "      <td>1</td>\n",
       "    </tr>\n",
       "  </tbody>\n",
       "</table>\n",
       "</div>"
      ],
      "text/plain": [
       "                                         type country        date  \\\n",
       "0  introduction of travel quarantine policies     COM  2020-04-01   \n",
       "1                              school closure     ZAF  2020-03-22   \n",
       "2       entertainment/cultural sector closure     NGA  2020-03-24   \n",
       "3       entertainment/cultural sector closure     COL  2020-07-05   \n",
       "4       entertainment/cultural sector closure     CMR  2021-06-01   \n",
       "\n",
       "                                     value  restriction  \n",
       "0                                       na            1  \n",
       "1  Only schools (primary/secondary) closed            1  \n",
       "2                                 Churches            1  \n",
       "3           Bars, restaurants, night clubs            1  \n",
       "4                                       na            1  "
      ]
     },
     "execution_count": 9,
     "metadata": {},
     "output_type": "execute_result"
    }
   ],
   "source": [
    "new_df = df.drop(['state/province', 'epoch', 'even_id'], axis=1)\n",
    "\n",
    "new_df.head()"
   ]
  },
  {
   "cell_type": "code",
   "execution_count": 10,
   "metadata": {},
   "outputs": [
    {
     "data": {
      "text/plain": [
       "array(['introduction of travel quarantine policies', 'school closure',\n",
       "       'entertainment/cultural sector closure', 'confinement',\n",
       "       'mask wearing', 'international flight restrictions',\n",
       "       'economic impact', 'freedom of movement (nationality dependent)',\n",
       "       'mass gatherings', 'public services closure',\n",
       "       'state of emergency (legal impact)', 'public transportation',\n",
       "       'domestic flight restriction', 'work restrictions',\n",
       "       'changes in prison-related policies', 'contact tracing', 'other'],\n",
       "      dtype=object)"
      ]
     },
     "execution_count": 10,
     "metadata": {},
     "output_type": "execute_result"
    }
   ],
   "source": [
    "# Unique measures\n",
    "new_df['type'].unique()"
   ]
  },
  {
   "cell_type": "code",
   "execution_count": 11,
   "metadata": {},
   "outputs": [
    {
     "name": "stdout",
     "output_type": "stream",
     "text": [
      "185 different countries\n",
      "['Afghanistan',\n",
      " 'Albania',\n",
      " 'Algeria',\n",
      " 'Andorra',\n",
      " 'Angola',\n",
      " 'Anguilla',\n",
      " 'Antarctica',\n",
      " 'Antigua and Barbuda',\n",
      " 'Argentina',\n",
      " 'Armenia',\n",
      " 'Australia',\n",
      " 'Austria',\n",
      " 'Azerbaijan',\n",
      " 'Bahamas',\n",
      " 'Bahrain',\n",
      " 'Bangladesh',\n",
      " 'Barbados',\n",
      " 'Belarus',\n",
      " 'Belgium',\n",
      " 'Belize',\n",
      " 'Benin',\n",
      " 'Bhutan',\n",
      " 'Bolivia, Plurinational State of',\n",
      " 'Bosnia and Herzegovina',\n",
      " 'Botswana',\n",
      " 'Brazil',\n",
      " 'Brunei Darussalam',\n",
      " 'Bulgaria',\n",
      " 'Burkina Faso',\n",
      " 'Burundi',\n",
      " 'Cabo Verde',\n",
      " 'Cambodia',\n",
      " 'Cameroon',\n",
      " 'Canada',\n",
      " 'Chad',\n",
      " 'Chile',\n",
      " 'China',\n",
      " 'Colombia',\n",
      " 'Comoros',\n",
      " 'Congo, The Democratic Republic of the',\n",
      " 'Costa Rica',\n",
      " 'Croatia',\n",
      " 'Cuba',\n",
      " 'Cyprus',\n",
      " 'Czechia',\n",
      " \"Côte d'Ivoire\",\n",
      " 'Denmark',\n",
      " 'Djibouti',\n",
      " 'Dominica',\n",
      " 'Dominican Republic',\n",
      " 'Ecuador',\n",
      " 'Egypt',\n",
      " 'El Salvador',\n",
      " 'Equatorial Guinea',\n",
      " 'Eritrea',\n",
      " 'Estonia',\n",
      " 'Ethiopia',\n",
      " 'Fiji',\n",
      " 'Finland',\n",
      " 'France',\n",
      " 'French Guiana',\n",
      " 'French Polynesia',\n",
      " 'Gabon',\n",
      " 'Gambia',\n",
      " 'Georgia',\n",
      " 'Germany',\n",
      " 'Ghana',\n",
      " 'Greece',\n",
      " 'Grenada',\n",
      " 'Guatemala',\n",
      " 'Guinea',\n",
      " 'Guinea-Bissau',\n",
      " 'Guyana',\n",
      " 'Haiti',\n",
      " 'Holy See (Vatican City State)',\n",
      " 'Honduras',\n",
      " 'Hungary',\n",
      " 'Iceland',\n",
      " 'India',\n",
      " 'Indonesia',\n",
      " 'Iran, Islamic Republic of',\n",
      " 'Iraq',\n",
      " 'Ireland',\n",
      " 'Israel',\n",
      " 'Italy',\n",
      " 'Jamaica',\n",
      " 'Japan',\n",
      " 'Jordan',\n",
      " 'Kazakhstan',\n",
      " 'Kenya',\n",
      " \"Korea, Democratic People's Republic of\",\n",
      " 'Korea, Republic of',\n",
      " 'Kuwait',\n",
      " 'Kyrgyzstan',\n",
      " \"Lao People's Democratic Republic\",\n",
      " 'Latvia',\n",
      " 'Lebanon',\n",
      " 'Lesotho',\n",
      " 'Liberia',\n",
      " 'Libya',\n",
      " 'Lithuania',\n",
      " 'Luxembourg',\n",
      " 'Madagascar',\n",
      " 'Malawi',\n",
      " 'Malaysia',\n",
      " 'Maldives',\n",
      " 'Mali',\n",
      " 'Malta',\n",
      " 'Mauritania',\n",
      " 'Mauritius',\n",
      " 'Mexico',\n",
      " 'Moldova, Republic of',\n",
      " 'Monaco',\n",
      " 'Mongolia',\n",
      " 'Montenegro',\n",
      " 'Morocco',\n",
      " 'Myanmar',\n",
      " 'NAN',\n",
      " 'NAN',\n",
      " 'Namibia',\n",
      " 'Nepal',\n",
      " 'Netherlands',\n",
      " 'New Zealand',\n",
      " 'Nigeria',\n",
      " 'North Macedonia',\n",
      " 'Norway',\n",
      " 'Oman',\n",
      " 'Pakistan',\n",
      " 'Palestine, State of',\n",
      " 'Panama',\n",
      " 'Papua New Guinea',\n",
      " 'Paraguay',\n",
      " 'Peru',\n",
      " 'Philippines',\n",
      " 'Poland',\n",
      " 'Portugal',\n",
      " 'Qatar',\n",
      " 'Romania',\n",
      " 'Russian Federation',\n",
      " 'Rwanda',\n",
      " 'Saint Kitts and Nevis',\n",
      " 'Saint Lucia',\n",
      " 'Saint Martin (French part)',\n",
      " 'Saint Pierre and Miquelon',\n",
      " 'Saint Vincent and the Grenadines',\n",
      " 'San Marino',\n",
      " 'Saudi Arabia',\n",
      " 'Senegal',\n",
      " 'Serbia',\n",
      " 'Seychelles',\n",
      " 'Sierra Leone',\n",
      " 'Singapore',\n",
      " 'Slovakia',\n",
      " 'Slovenia',\n",
      " 'Somalia',\n",
      " 'South Africa',\n",
      " 'South Sudan',\n",
      " 'Spain',\n",
      " 'Sri Lanka',\n",
      " 'Sudan',\n",
      " 'Suriname',\n",
      " 'Sweden',\n",
      " 'Switzerland',\n",
      " 'Syrian Arab Republic',\n",
      " 'Taiwan, Province of China',\n",
      " 'Tajikistan',\n",
      " 'Tanzania, United Republic of',\n",
      " 'Thailand',\n",
      " 'Timor-Leste',\n",
      " 'Togo',\n",
      " 'Trinidad and Tobago',\n",
      " 'Turkey',\n",
      " 'Turkmenistan',\n",
      " 'Uganda',\n",
      " 'Ukraine',\n",
      " 'United Arab Emirates',\n",
      " 'United Kingdom',\n",
      " 'United States',\n",
      " 'Uruguay',\n",
      " 'Uzbekistan',\n",
      " 'Venezuela, Bolivarian Republic of',\n",
      " 'Viet Nam',\n",
      " 'Yemen',\n",
      " 'Zambia',\n",
      " 'Zimbabwe']\n"
     ]
    }
   ],
   "source": [
    "# Available countries\n",
    "countryCodes = pd.unique(new_df[\"country\"])\n",
    "countries = [pycountry.countries.get(alpha_3=code).name if (pycountry.countries.get(alpha_3=code) is not None) else 'NAN' for code in countryCodes]\n",
    "\n",
    "country_2_countryCode = {c:code for c,code in zip(countries,countryCodes)}\n",
    "\n",
    "number_of_countries = len(countries)\n",
    "print(f\"{number_of_countries} different countries\")\n",
    "pprint(sorted(countries))"
   ]
  },
  {
   "cell_type": "markdown",
   "metadata": {},
   "source": [
    "## Plot Restriction events"
   ]
  },
  {
   "cell_type": "code",
   "execution_count": 13,
   "metadata": {},
   "outputs": [
    {
     "data": {
      "application/vnd.jupyter.widget-view+json": {
       "model_id": "4069e159973045c5bcc3e506e9d2fd08",
       "version_major": 2,
       "version_minor": 0
      },
      "text/plain": [
       "interactive(children=(Dropdown(description='Country:', index=34, options=('Comoros', 'South Africa', 'Nigeria'…"
      ]
     },
     "metadata": {},
     "output_type": "display_data"
    },
    {
     "data": {
      "text/plain": [
       "<function __main__.plot_events(country)>"
      ]
     },
     "execution_count": 13,
     "metadata": {},
     "output_type": "execute_result"
    }
   ],
   "source": [
    "def plot_events(country):\n",
    "    subdf = df.loc[df[\"country\"] == country_2_countryCode[country]]\n",
    "    \n",
    "    x = subdf[\"date\"].tolist()\n",
    "    \n",
    "#     dates = pd.date_range('2020-01-01', datetime.datetime.today()).tolist()\n",
    "    \n",
    "    width = 5\n",
    "    height = width/1.618\n",
    "    fig = plt.figure(figsize=(width,height))\n",
    "    plt.title(country)\n",
    "    \n",
    "    dates = pd.to_datetime(pd.Series([str(xi) for xi in x]), format = '%Y-%m-%d').tolist()\n",
    "    colors = np.array(['green' if subdf[\"restriction\"].iloc[i] == 0 else 'red' for i in range(len(subdf[\"restriction\"]))])\n",
    "    \n",
    "    plt.plot_date(dates, subdf[\"type\"], \".\", markersize=5, label=subdf[\"restriction\"])\n",
    "    \n",
    "    loc = WeekdayLocator(byweekday=MO, interval=3)\n",
    "    formatter = DateFormatter('%d/%m/%y')\n",
    "\n",
    "    ax = plt.gca()\n",
    "#     ax.xaxis.set_major_locator(loc)\n",
    "#     ax.xaxis.set_major_formatter(formatter)\n",
    "    ax.xaxis.set_tick_params(rotation=30, labelsize=10)\n",
    "\n",
    "    plt.ylabel(\"Measure type\")\n",
    "    plt.xlabel(\"Dates\")\n",
    "#     plt.legend()\n",
    "    plt.show()\n",
    "    \n",
    "\n",
    "w_countries = widgets.Dropdown(\n",
    "    options=countries,\n",
    "    value='France',\n",
    "\n",
    "    description='Country:',\n",
    "    disabled=False\n",
    ")\n",
    "\n",
    "interact(plot_events, country=w_countries)"
   ]
  },
  {
   "cell_type": "code",
   "execution_count": null,
   "metadata": {},
   "outputs": [],
   "source": []
  },
  {
   "cell_type": "code",
   "execution_count": null,
   "metadata": {},
   "outputs": [],
   "source": []
  }
 ],
 "metadata": {
  "kernelspec": {
   "display_name": "Python 3",
   "language": "python",
   "name": "python3"
  },
  "language_info": {
   "codemirror_mode": {
    "name": "ipython",
    "version": 3
   },
   "file_extension": ".py",
   "mimetype": "text/x-python",
   "name": "python",
   "nbconvert_exporter": "python",
   "pygments_lexer": "ipython3",
   "version": "3.6.12"
  },
  "toc": {
   "base_numbering": 1,
   "nav_menu": {},
   "number_sections": true,
   "sideBar": true,
   "skip_h1_title": false,
   "title_cell": "Table of Contents",
   "title_sidebar": "Contents",
   "toc_cell": false,
   "toc_position": {},
   "toc_section_display": true,
   "toc_window_display": false
  }
 },
 "nbformat": 4,
 "nbformat_minor": 4
}
