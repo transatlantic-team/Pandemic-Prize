{
 "cells": [
  {
   "cell_type": "raw",
   "metadata": {},
   "source": [
    "# Copyright 2020 (c) Cognizant Digital Business, Evolutionary AI. All rights reserved. Issued under the Apache 2.0 License."
   ]
  },
  {
   "cell_type": "markdown",
   "metadata": {},
   "source": [
    "# Example Predictor: Linear Rollout Predictor\n",
    "\n",
    "This example contains basic functionality for training and evaluating a linear predictor that rolls out predictions day-by-day.\n",
    "\n",
    "First, a training data set is created from historical case and npi data.\n",
    "\n",
    "Second, a linear model is trained to predict future cases from prior case data along with prior and future npi data.\n",
    "The model is an off-the-shelf sklearn Lasso model, that uses a positive weight constraint to enforce the assumption that increased npis has a negative correlation with future cases.\n",
    "\n",
    "Third, a sample evaluation set is created, and the predictor is applied to this evaluation set to produce prediction results in the correct format."
   ]
  },
  {
   "cell_type": "markdown",
   "metadata": {},
   "source": [
    "## Training"
   ]
  },
  {
   "cell_type": "code",
   "execution_count": 1,
   "metadata": {
    "ExecuteTime": {
     "end_time": "2020-12-14T16:46:58.850680Z",
     "start_time": "2020-12-14T16:46:54.588181Z"
    }
   },
   "outputs": [],
   "source": [
    "import requests\n",
    "import datetime\n",
    "import pickle\n",
    "\n",
    "import numpy as np\n",
    "import pandas as pd\n",
    "from sklearn.linear_model import Lasso\n",
    "from sklearn.model_selection import train_test_split\n",
    "\n",
    "import ipywidgets as widgets\n",
    "from ipywidgets import interact\n",
    "\n",
    "import matplotlib.pyplot as plt\n",
    "from matplotlib.dates import (DateFormatter, MO, WeekdayLocator)\n",
    "import seaborn as sns\n",
    "\n",
    "import transat"
   ]
  },
  {
   "cell_type": "code",
   "execution_count": 2,
   "metadata": {
    "ExecuteTime": {
     "end_time": "2020-12-14T16:47:15.613520Z",
     "start_time": "2020-12-14T16:47:15.609316Z"
    }
   },
   "outputs": [],
   "source": [
    "%matplotlib inline\n",
    "import matplotlib as mpl\n",
    "mpl.rcParams['figure.dpi']= 150"
   ]
  },
  {
   "cell_type": "markdown",
   "metadata": {},
   "source": [
    "### Copy the data locally"
   ]
  },
  {
   "cell_type": "code",
   "execution_count": 3,
   "metadata": {
    "ExecuteTime": {
     "end_time": "2020-12-14T16:47:37.468049Z",
     "start_time": "2020-12-14T16:47:37.465340Z"
    }
   },
   "outputs": [],
   "source": [
    "# Main source for the training data\n",
    "DATA_URL = 'https://raw.githubusercontent.com/OxCGRT/covid-policy-tracker/master/data/OxCGRT_latest.csv'\n",
    "# Local file\n",
    "DATA_FILE = 'data/OxCGRT_latest.csv'"
   ]
  },
  {
   "cell_type": "code",
   "execution_count": 4,
   "metadata": {
    "ExecuteTime": {
     "end_time": "2020-12-14T16:47:40.626712Z",
     "start_time": "2020-12-14T16:47:38.101325Z"
    }
   },
   "outputs": [
    {
     "data": {
      "text/plain": [
       "('data/OxCGRT_latest.csv', <http.client.HTTPMessage at 0x7ff52459fcd0>)"
      ]
     },
     "execution_count": 4,
     "metadata": {},
     "output_type": "execute_result"
    }
   ],
   "source": [
    "import os\n",
    "import urllib.request\n",
    "if not os.path.exists('data'):\n",
    "    os.mkdir('data')\n",
    "urllib.request.urlretrieve(DATA_URL, DATA_FILE)"
   ]
  },
  {
   "cell_type": "code",
   "execution_count": 13,
   "metadata": {
    "ExecuteTime": {
     "end_time": "2020-12-14T16:48:22.543839Z",
     "start_time": "2020-12-14T16:48:22.132208Z"
    }
   },
   "outputs": [],
   "source": [
    "# Load historical data from local file\n",
    "df = pd.read_csv(DATA_FILE, \n",
    "                 parse_dates=['Date'],\n",
    "                 encoding=\"ISO-8859-1\",\n",
    "                 dtype={\"RegionName\": str,\n",
    "                        \"RegionCode\": str},\n",
    "                 error_bad_lines=False)"
   ]
  },
  {
   "cell_type": "code",
   "execution_count": 14,
   "metadata": {
    "ExecuteTime": {
     "end_time": "2020-12-14T16:48:22.642192Z",
     "start_time": "2020-12-14T16:48:22.637449Z"
    }
   },
   "outputs": [
    {
     "data": {
      "text/plain": [
       "Index(['CountryName', 'CountryCode', 'RegionName', 'RegionCode',\n",
       "       'Jurisdiction', 'Date', 'C1_School closing', 'C1_Flag',\n",
       "       'C2_Workplace closing', 'C2_Flag', 'C3_Cancel public events', 'C3_Flag',\n",
       "       'C4_Restrictions on gatherings', 'C4_Flag', 'C5_Close public transport',\n",
       "       'C5_Flag', 'C6_Stay at home requirements', 'C6_Flag',\n",
       "       'C7_Restrictions on internal movement', 'C7_Flag',\n",
       "       'C8_International travel controls', 'E1_Income support', 'E1_Flag',\n",
       "       'E2_Debt/contract relief', 'E3_Fiscal measures',\n",
       "       'E4_International support', 'H1_Public information campaigns',\n",
       "       'H1_Flag', 'H2_Testing policy', 'H3_Contact tracing',\n",
       "       'H4_Emergency investment in healthcare', 'H5_Investment in vaccines',\n",
       "       'H6_Facial Coverings', 'H6_Flag', 'H7_Vaccination policy', 'H7_Flag',\n",
       "       'M1_Wildcard', 'ConfirmedCases', 'ConfirmedDeaths', 'StringencyIndex',\n",
       "       'StringencyIndexForDisplay', 'StringencyLegacyIndex',\n",
       "       'StringencyLegacyIndexForDisplay', 'GovernmentResponseIndex',\n",
       "       'GovernmentResponseIndexForDisplay', 'ContainmentHealthIndex',\n",
       "       'ContainmentHealthIndexForDisplay', 'EconomicSupportIndex',\n",
       "       'EconomicSupportIndexForDisplay'],\n",
       "      dtype='object')"
      ]
     },
     "execution_count": 14,
     "metadata": {},
     "output_type": "execute_result"
    }
   ],
   "source": [
    "df.columns"
   ]
  },
  {
   "cell_type": "code",
   "execution_count": 15,
   "metadata": {
    "ExecuteTime": {
     "end_time": "2020-12-14T16:48:23.319539Z",
     "start_time": "2020-12-14T16:48:23.317308Z"
    }
   },
   "outputs": [],
   "source": [
    "# For testing, restrict training data to that before a hypothetical predictor submission date\n",
    "HYPOTHETICAL_SUBMISSION_DATE = np.datetime64(\"2020-07-31\")\n",
    "# df_test = df[df.Date > HYPOTHETICAL_SUBMISSION_DATE]\n",
    "# df = df[df.Date <= HYPOTHETICAL_SUBMISSION_DATE]"
   ]
  },
  {
   "cell_type": "code",
   "execution_count": 16,
   "metadata": {
    "ExecuteTime": {
     "end_time": "2020-12-14T16:48:24.132745Z",
     "start_time": "2020-12-14T16:48:24.082857Z"
    }
   },
   "outputs": [],
   "source": [
    "# Add RegionID column that combines CountryName and RegionName for easier manipulation of data\n",
    "df['GeoID'] = df['CountryName'] + '__' + df['RegionName'].astype(str)"
   ]
  },
  {
   "cell_type": "code",
   "execution_count": 17,
   "metadata": {
    "ExecuteTime": {
     "end_time": "2020-12-14T16:48:24.871809Z",
     "start_time": "2020-12-14T16:48:24.806075Z"
    }
   },
   "outputs": [],
   "source": [
    "# Add new cases column\n",
    "df['NewCases'] = df.groupby('GeoID').ConfirmedCases.diff().fillna(0)"
   ]
  },
  {
   "cell_type": "code",
   "execution_count": 18,
   "metadata": {
    "ExecuteTime": {
     "end_time": "2020-12-14T16:48:28.121210Z",
     "start_time": "2020-12-14T16:48:28.048416Z"
    }
   },
   "outputs": [],
   "source": [
    "# Keep only columns of interest\n",
    "id_cols = ['CountryName',\n",
    "           'RegionName',\n",
    "           'GeoID',\n",
    "           'Date']\n",
    "cases_col = ['NewCases']\n",
    "npi_cols = ['C1_School closing',\n",
    "            'C2_Workplace closing',\n",
    "            'C3_Cancel public events',\n",
    "            'C4_Restrictions on gatherings',\n",
    "            'C5_Close public transport',\n",
    "            'C6_Stay at home requirements',\n",
    "            'C7_Restrictions on internal movement',\n",
    "            'C8_International travel controls',\n",
    "            'H1_Public information campaigns',\n",
    "            'H2_Testing policy',\n",
    "            'H3_Contact tracing',\n",
    "            'H6_Facial Coverings']\n",
    "df = df[id_cols + cases_col + npi_cols]"
   ]
  },
  {
   "cell_type": "code",
   "execution_count": 19,
   "metadata": {
    "ExecuteTime": {
     "end_time": "2020-12-14T16:48:30.836880Z",
     "start_time": "2020-12-14T16:48:30.353666Z"
    }
   },
   "outputs": [
    {
     "data": {
      "application/vnd.jupyter.widget-view+json": {
       "model_id": "3bf26280b02e4f938c042b68ed6a0e71",
       "version_major": 2,
       "version_minor": 0
      },
      "text/plain": [
       "interactive(children=(Dropdown(description='Country:', index=60, options=('Afghanistan', 'Albania', 'Algeria',…"
      ]
     },
     "metadata": {},
     "output_type": "display_data"
    },
    {
     "data": {
      "text/plain": [
       "<function __main__.plot_normalized_new_confirmed_cases(country)>"
      ]
     },
     "execution_count": 19,
     "metadata": {},
     "output_type": "execute_result"
    }
   ],
   "source": [
    "def plot_normalized_new_confirmed_cases(country):\n",
    "    subdf = df.loc[df[\"CountryName\"] == country]\n",
    "    x = subdf[\"Date\"].tolist()\n",
    "    \n",
    "    width = 5\n",
    "    height = width/1.618\n",
    "    fig = plt.figure(figsize=(width,height))\n",
    "    plt.title(country)\n",
    "    \n",
    "    dates = pd.to_datetime(pd.Series([str(xi) for xi in x]), format = '%Y-%m-%d').tolist()\n",
    "    \n",
    "    plt.plot_date(dates, subdf[\"NewCases\"], \".\", markersize=2, label=\"new cases\")\n",
    "    \n",
    "    loc = WeekdayLocator(byweekday=MO, interval=3)\n",
    "    formatter = DateFormatter('%d/%m/%y')\n",
    "\n",
    "    ax = plt.gca()\n",
    "    ax.xaxis.set_major_locator(loc)\n",
    "    ax.xaxis.set_major_formatter(formatter)\n",
    "    ax.xaxis.set_tick_params(rotation=30, labelsize=10)\n",
    "\n",
    "    plt.ylabel(\"Number of 'legend'\")\n",
    "    plt.xlabel(\"Dates\")\n",
    "    plt.legend()\n",
    "    plt.tight_layout()\n",
    "    plt.show()\n",
    "    \n",
    "countries = sorted(df.CountryName.unique())\n",
    "\n",
    "w_countries = widgets.Dropdown(\n",
    "    options=countries,\n",
    "    value='France',\n",
    "    description='Country:',\n",
    "    disabled=False\n",
    ")\n",
    "\n",
    "interact(plot_normalized_new_confirmed_cases, country=w_countries)"
   ]
  },
  {
   "cell_type": "code",
   "execution_count": 20,
   "metadata": {
    "ExecuteTime": {
     "end_time": "2020-12-14T16:48:34.541160Z",
     "start_time": "2020-12-14T16:48:34.448281Z"
    }
   },
   "outputs": [],
   "source": [
    "# Fill any missing case values by interpolation and setting NaNs to 0\n",
    "df.update(df.groupby('GeoID').NewCases.apply(\n",
    "    lambda group: group.interpolate()).fillna(0))"
   ]
  },
  {
   "cell_type": "code",
   "execution_count": 21,
   "metadata": {
    "ExecuteTime": {
     "end_time": "2020-12-14T16:48:35.733857Z",
     "start_time": "2020-12-14T16:48:35.337374Z"
    }
   },
   "outputs": [
    {
     "data": {
      "application/vnd.jupyter.widget-view+json": {
       "model_id": "29e0b86c5ad249968193541b9008b161",
       "version_major": 2,
       "version_minor": 0
      },
      "text/plain": [
       "interactive(children=(Dropdown(description='Country:', index=60, options=('Afghanistan', 'Albania', 'Algeria',…"
      ]
     },
     "metadata": {},
     "output_type": "display_data"
    },
    {
     "data": {
      "text/plain": [
       "<function __main__.plot_normalized_new_confirmed_cases(country)>"
      ]
     },
     "execution_count": 21,
     "metadata": {},
     "output_type": "execute_result"
    }
   ],
   "source": [
    "def plot_normalized_new_confirmed_cases(country):\n",
    "    subdf = df.loc[df[\"CountryName\"] == country]\n",
    "    x = subdf[\"Date\"].tolist()\n",
    "    \n",
    "    width = 5\n",
    "    height = width/1.618\n",
    "    fig = plt.figure(figsize=(width,height))\n",
    "    plt.title(country)\n",
    "    \n",
    "    dates = pd.to_datetime(pd.Series([str(xi) for xi in x]), format = '%Y-%m-%d').tolist()\n",
    "    \n",
    "    plt.plot_date(dates, subdf[\"NewCases\"], \".\", markersize=2, label=\"new cases\")\n",
    "    \n",
    "    loc = WeekdayLocator(byweekday=MO, interval=3)\n",
    "    formatter = DateFormatter('%d/%m/%y')\n",
    "\n",
    "    ax = plt.gca()\n",
    "    ax.xaxis.set_major_locator(loc)\n",
    "    ax.xaxis.set_major_formatter(formatter)\n",
    "    ax.xaxis.set_tick_params(rotation=30, labelsize=10)\n",
    "\n",
    "    plt.ylabel(\"Number of 'legend'\")\n",
    "    plt.xlabel(\"Dates\")\n",
    "    plt.legend()\n",
    "    plt.tight_layout()\n",
    "    plt.show()\n",
    "    \n",
    "countries = sorted(df.CountryName.unique())\n",
    "\n",
    "w_countries = widgets.Dropdown(\n",
    "    options=countries,\n",
    "    value='France',\n",
    "    description='Country:',\n",
    "    disabled=False\n",
    ")\n",
    "\n",
    "interact(plot_normalized_new_confirmed_cases, country=w_countries)"
   ]
  },
  {
   "cell_type": "code",
   "execution_count": 22,
   "metadata": {
    "ExecuteTime": {
     "end_time": "2020-12-14T16:48:39.159310Z",
     "start_time": "2020-12-14T16:48:38.957935Z"
    }
   },
   "outputs": [],
   "source": [
    "# Fill any missing NPIs by assuming they are the same as previous day\n",
    "for npi_col in npi_cols:\n",
    "    df.update(df.groupby('GeoID')[npi_col].ffill().fillna(0))"
   ]
  },
  {
   "cell_type": "code",
   "execution_count": 23,
   "metadata": {
    "ExecuteTime": {
     "end_time": "2020-12-14T16:48:39.605650Z",
     "start_time": "2020-12-14T16:48:39.571726Z"
    }
   },
   "outputs": [
    {
     "data": {
      "text/html": [
       "<div>\n",
       "<style scoped>\n",
       "    .dataframe tbody tr th:only-of-type {\n",
       "        vertical-align: middle;\n",
       "    }\n",
       "\n",
       "    .dataframe tbody tr th {\n",
       "        vertical-align: top;\n",
       "    }\n",
       "\n",
       "    .dataframe thead th {\n",
       "        text-align: right;\n",
       "    }\n",
       "</style>\n",
       "<table border=\"1\" class=\"dataframe\">\n",
       "  <thead>\n",
       "    <tr style=\"text-align: right;\">\n",
       "      <th></th>\n",
       "      <th>CountryName</th>\n",
       "      <th>RegionName</th>\n",
       "      <th>GeoID</th>\n",
       "      <th>Date</th>\n",
       "      <th>NewCases</th>\n",
       "      <th>C1_School closing</th>\n",
       "      <th>C2_Workplace closing</th>\n",
       "      <th>C3_Cancel public events</th>\n",
       "      <th>C4_Restrictions on gatherings</th>\n",
       "      <th>C5_Close public transport</th>\n",
       "      <th>C6_Stay at home requirements</th>\n",
       "      <th>C7_Restrictions on internal movement</th>\n",
       "      <th>C8_International travel controls</th>\n",
       "      <th>H1_Public information campaigns</th>\n",
       "      <th>H2_Testing policy</th>\n",
       "      <th>H3_Contact tracing</th>\n",
       "      <th>H6_Facial Coverings</th>\n",
       "    </tr>\n",
       "  </thead>\n",
       "  <tbody>\n",
       "    <tr>\n",
       "      <th>0</th>\n",
       "      <td>Aruba</td>\n",
       "      <td>NaN</td>\n",
       "      <td>Aruba__nan</td>\n",
       "      <td>2020-01-01</td>\n",
       "      <td>0.0</td>\n",
       "      <td>0.0</td>\n",
       "      <td>0.0</td>\n",
       "      <td>0.0</td>\n",
       "      <td>0.0</td>\n",
       "      <td>0.0</td>\n",
       "      <td>0.0</td>\n",
       "      <td>0.0</td>\n",
       "      <td>0.0</td>\n",
       "      <td>0.0</td>\n",
       "      <td>0.0</td>\n",
       "      <td>0.0</td>\n",
       "      <td>0.0</td>\n",
       "    </tr>\n",
       "    <tr>\n",
       "      <th>1</th>\n",
       "      <td>Aruba</td>\n",
       "      <td>NaN</td>\n",
       "      <td>Aruba__nan</td>\n",
       "      <td>2020-01-02</td>\n",
       "      <td>0.0</td>\n",
       "      <td>0.0</td>\n",
       "      <td>0.0</td>\n",
       "      <td>0.0</td>\n",
       "      <td>0.0</td>\n",
       "      <td>0.0</td>\n",
       "      <td>0.0</td>\n",
       "      <td>0.0</td>\n",
       "      <td>0.0</td>\n",
       "      <td>0.0</td>\n",
       "      <td>0.0</td>\n",
       "      <td>0.0</td>\n",
       "      <td>0.0</td>\n",
       "    </tr>\n",
       "    <tr>\n",
       "      <th>2</th>\n",
       "      <td>Aruba</td>\n",
       "      <td>NaN</td>\n",
       "      <td>Aruba__nan</td>\n",
       "      <td>2020-01-03</td>\n",
       "      <td>0.0</td>\n",
       "      <td>0.0</td>\n",
       "      <td>0.0</td>\n",
       "      <td>0.0</td>\n",
       "      <td>0.0</td>\n",
       "      <td>0.0</td>\n",
       "      <td>0.0</td>\n",
       "      <td>0.0</td>\n",
       "      <td>0.0</td>\n",
       "      <td>0.0</td>\n",
       "      <td>0.0</td>\n",
       "      <td>0.0</td>\n",
       "      <td>0.0</td>\n",
       "    </tr>\n",
       "    <tr>\n",
       "      <th>3</th>\n",
       "      <td>Aruba</td>\n",
       "      <td>NaN</td>\n",
       "      <td>Aruba__nan</td>\n",
       "      <td>2020-01-04</td>\n",
       "      <td>0.0</td>\n",
       "      <td>0.0</td>\n",
       "      <td>0.0</td>\n",
       "      <td>0.0</td>\n",
       "      <td>0.0</td>\n",
       "      <td>0.0</td>\n",
       "      <td>0.0</td>\n",
       "      <td>0.0</td>\n",
       "      <td>0.0</td>\n",
       "      <td>0.0</td>\n",
       "      <td>0.0</td>\n",
       "      <td>0.0</td>\n",
       "      <td>0.0</td>\n",
       "    </tr>\n",
       "    <tr>\n",
       "      <th>4</th>\n",
       "      <td>Aruba</td>\n",
       "      <td>NaN</td>\n",
       "      <td>Aruba__nan</td>\n",
       "      <td>2020-01-05</td>\n",
       "      <td>0.0</td>\n",
       "      <td>0.0</td>\n",
       "      <td>0.0</td>\n",
       "      <td>0.0</td>\n",
       "      <td>0.0</td>\n",
       "      <td>0.0</td>\n",
       "      <td>0.0</td>\n",
       "      <td>0.0</td>\n",
       "      <td>0.0</td>\n",
       "      <td>0.0</td>\n",
       "      <td>0.0</td>\n",
       "      <td>0.0</td>\n",
       "      <td>0.0</td>\n",
       "    </tr>\n",
       "    <tr>\n",
       "      <th>...</th>\n",
       "      <td>...</td>\n",
       "      <td>...</td>\n",
       "      <td>...</td>\n",
       "      <td>...</td>\n",
       "      <td>...</td>\n",
       "      <td>...</td>\n",
       "      <td>...</td>\n",
       "      <td>...</td>\n",
       "      <td>...</td>\n",
       "      <td>...</td>\n",
       "      <td>...</td>\n",
       "      <td>...</td>\n",
       "      <td>...</td>\n",
       "      <td>...</td>\n",
       "      <td>...</td>\n",
       "      <td>...</td>\n",
       "      <td>...</td>\n",
       "    </tr>\n",
       "    <tr>\n",
       "      <th>92829</th>\n",
       "      <td>Zimbabwe</td>\n",
       "      <td>NaN</td>\n",
       "      <td>Zimbabwe__nan</td>\n",
       "      <td>2020-12-10</td>\n",
       "      <td>74.0</td>\n",
       "      <td>2.0</td>\n",
       "      <td>1.0</td>\n",
       "      <td>2.0</td>\n",
       "      <td>3.0</td>\n",
       "      <td>1.0</td>\n",
       "      <td>2.0</td>\n",
       "      <td>2.0</td>\n",
       "      <td>2.0</td>\n",
       "      <td>2.0</td>\n",
       "      <td>1.0</td>\n",
       "      <td>1.0</td>\n",
       "      <td>3.0</td>\n",
       "    </tr>\n",
       "    <tr>\n",
       "      <th>92830</th>\n",
       "      <td>Zimbabwe</td>\n",
       "      <td>NaN</td>\n",
       "      <td>Zimbabwe__nan</td>\n",
       "      <td>2020-12-11</td>\n",
       "      <td>81.0</td>\n",
       "      <td>2.0</td>\n",
       "      <td>1.0</td>\n",
       "      <td>2.0</td>\n",
       "      <td>3.0</td>\n",
       "      <td>1.0</td>\n",
       "      <td>2.0</td>\n",
       "      <td>2.0</td>\n",
       "      <td>2.0</td>\n",
       "      <td>2.0</td>\n",
       "      <td>1.0</td>\n",
       "      <td>1.0</td>\n",
       "      <td>3.0</td>\n",
       "    </tr>\n",
       "    <tr>\n",
       "      <th>92831</th>\n",
       "      <td>Zimbabwe</td>\n",
       "      <td>NaN</td>\n",
       "      <td>Zimbabwe__nan</td>\n",
       "      <td>2020-12-12</td>\n",
       "      <td>57.0</td>\n",
       "      <td>2.0</td>\n",
       "      <td>1.0</td>\n",
       "      <td>2.0</td>\n",
       "      <td>3.0</td>\n",
       "      <td>1.0</td>\n",
       "      <td>2.0</td>\n",
       "      <td>2.0</td>\n",
       "      <td>2.0</td>\n",
       "      <td>2.0</td>\n",
       "      <td>1.0</td>\n",
       "      <td>1.0</td>\n",
       "      <td>3.0</td>\n",
       "    </tr>\n",
       "    <tr>\n",
       "      <th>92832</th>\n",
       "      <td>Zimbabwe</td>\n",
       "      <td>NaN</td>\n",
       "      <td>Zimbabwe__nan</td>\n",
       "      <td>2020-12-13</td>\n",
       "      <td>27.0</td>\n",
       "      <td>2.0</td>\n",
       "      <td>1.0</td>\n",
       "      <td>2.0</td>\n",
       "      <td>3.0</td>\n",
       "      <td>1.0</td>\n",
       "      <td>2.0</td>\n",
       "      <td>2.0</td>\n",
       "      <td>2.0</td>\n",
       "      <td>2.0</td>\n",
       "      <td>1.0</td>\n",
       "      <td>1.0</td>\n",
       "      <td>3.0</td>\n",
       "    </tr>\n",
       "    <tr>\n",
       "      <th>92833</th>\n",
       "      <td>Zimbabwe</td>\n",
       "      <td>NaN</td>\n",
       "      <td>Zimbabwe__nan</td>\n",
       "      <td>2020-12-14</td>\n",
       "      <td>0.0</td>\n",
       "      <td>2.0</td>\n",
       "      <td>1.0</td>\n",
       "      <td>2.0</td>\n",
       "      <td>3.0</td>\n",
       "      <td>1.0</td>\n",
       "      <td>2.0</td>\n",
       "      <td>2.0</td>\n",
       "      <td>2.0</td>\n",
       "      <td>2.0</td>\n",
       "      <td>1.0</td>\n",
       "      <td>1.0</td>\n",
       "      <td>3.0</td>\n",
       "    </tr>\n",
       "  </tbody>\n",
       "</table>\n",
       "<p>92834 rows × 17 columns</p>\n",
       "</div>"
      ],
      "text/plain": [
       "      CountryName RegionName          GeoID       Date  NewCases  \\\n",
       "0           Aruba        NaN     Aruba__nan 2020-01-01       0.0   \n",
       "1           Aruba        NaN     Aruba__nan 2020-01-02       0.0   \n",
       "2           Aruba        NaN     Aruba__nan 2020-01-03       0.0   \n",
       "3           Aruba        NaN     Aruba__nan 2020-01-04       0.0   \n",
       "4           Aruba        NaN     Aruba__nan 2020-01-05       0.0   \n",
       "...           ...        ...            ...        ...       ...   \n",
       "92829    Zimbabwe        NaN  Zimbabwe__nan 2020-12-10      74.0   \n",
       "92830    Zimbabwe        NaN  Zimbabwe__nan 2020-12-11      81.0   \n",
       "92831    Zimbabwe        NaN  Zimbabwe__nan 2020-12-12      57.0   \n",
       "92832    Zimbabwe        NaN  Zimbabwe__nan 2020-12-13      27.0   \n",
       "92833    Zimbabwe        NaN  Zimbabwe__nan 2020-12-14       0.0   \n",
       "\n",
       "       C1_School closing  C2_Workplace closing  C3_Cancel public events  \\\n",
       "0                    0.0                   0.0                      0.0   \n",
       "1                    0.0                   0.0                      0.0   \n",
       "2                    0.0                   0.0                      0.0   \n",
       "3                    0.0                   0.0                      0.0   \n",
       "4                    0.0                   0.0                      0.0   \n",
       "...                  ...                   ...                      ...   \n",
       "92829                2.0                   1.0                      2.0   \n",
       "92830                2.0                   1.0                      2.0   \n",
       "92831                2.0                   1.0                      2.0   \n",
       "92832                2.0                   1.0                      2.0   \n",
       "92833                2.0                   1.0                      2.0   \n",
       "\n",
       "       C4_Restrictions on gatherings  C5_Close public transport  \\\n",
       "0                                0.0                        0.0   \n",
       "1                                0.0                        0.0   \n",
       "2                                0.0                        0.0   \n",
       "3                                0.0                        0.0   \n",
       "4                                0.0                        0.0   \n",
       "...                              ...                        ...   \n",
       "92829                            3.0                        1.0   \n",
       "92830                            3.0                        1.0   \n",
       "92831                            3.0                        1.0   \n",
       "92832                            3.0                        1.0   \n",
       "92833                            3.0                        1.0   \n",
       "\n",
       "       C6_Stay at home requirements  C7_Restrictions on internal movement  \\\n",
       "0                               0.0                                   0.0   \n",
       "1                               0.0                                   0.0   \n",
       "2                               0.0                                   0.0   \n",
       "3                               0.0                                   0.0   \n",
       "4                               0.0                                   0.0   \n",
       "...                             ...                                   ...   \n",
       "92829                           2.0                                   2.0   \n",
       "92830                           2.0                                   2.0   \n",
       "92831                           2.0                                   2.0   \n",
       "92832                           2.0                                   2.0   \n",
       "92833                           2.0                                   2.0   \n",
       "\n",
       "       C8_International travel controls  H1_Public information campaigns  \\\n",
       "0                                   0.0                              0.0   \n",
       "1                                   0.0                              0.0   \n",
       "2                                   0.0                              0.0   \n",
       "3                                   0.0                              0.0   \n",
       "4                                   0.0                              0.0   \n",
       "...                                 ...                              ...   \n",
       "92829                               2.0                              2.0   \n",
       "92830                               2.0                              2.0   \n",
       "92831                               2.0                              2.0   \n",
       "92832                               2.0                              2.0   \n",
       "92833                               2.0                              2.0   \n",
       "\n",
       "       H2_Testing policy  H3_Contact tracing  H6_Facial Coverings  \n",
       "0                    0.0                 0.0                  0.0  \n",
       "1                    0.0                 0.0                  0.0  \n",
       "2                    0.0                 0.0                  0.0  \n",
       "3                    0.0                 0.0                  0.0  \n",
       "4                    0.0                 0.0                  0.0  \n",
       "...                  ...                 ...                  ...  \n",
       "92829                1.0                 1.0                  3.0  \n",
       "92830                1.0                 1.0                  3.0  \n",
       "92831                1.0                 1.0                  3.0  \n",
       "92832                1.0                 1.0                  3.0  \n",
       "92833                1.0                 1.0                  3.0  \n",
       "\n",
       "[92834 rows x 17 columns]"
      ]
     },
     "execution_count": 23,
     "metadata": {},
     "output_type": "execute_result"
    }
   ],
   "source": [
    "df"
   ]
  },
  {
   "cell_type": "code",
   "execution_count": 24,
   "metadata": {
    "ExecuteTime": {
     "end_time": "2020-12-14T16:48:40.570527Z",
     "start_time": "2020-12-14T16:48:40.554701Z"
    }
   },
   "outputs": [],
   "source": [
    "df_test = df[df.Date > HYPOTHETICAL_SUBMISSION_DATE]\n",
    "df = df[df.Date <= HYPOTHETICAL_SUBMISSION_DATE]"
   ]
  },
  {
   "cell_type": "code",
   "execution_count": 25,
   "metadata": {
    "ExecuteTime": {
     "end_time": "2020-12-14T16:48:43.042753Z",
     "start_time": "2020-12-14T16:48:41.324482Z"
    }
   },
   "outputs": [],
   "source": [
    "# Set number of past days to use to make predictions\n",
    "nb_lookback_days = 30\n",
    "\n",
    "# Create training data across all countries for predicting one day ahead\n",
    "X_cols = cases_col + npi_cols\n",
    "y_col = cases_col\n",
    "X_samples = []\n",
    "y_samples = []\n",
    "geo_ids = df.GeoID.unique()\n",
    "for g in geo_ids:\n",
    "    gdf = df[df.GeoID == g]\n",
    "    all_case_data = np.array(gdf[cases_col])\n",
    "    all_npi_data = np.array(gdf[npi_cols])\n",
    "\n",
    "    # Create one sample for each day where we have enough data\n",
    "    # Each sample consists of cases and npis for previous nb_lookback_days\n",
    "    nb_total_days = len(gdf)\n",
    "    for d in range(nb_lookback_days, nb_total_days - 1):\n",
    "        X_cases = all_case_data[d-nb_lookback_days:d]\n",
    "\n",
    "        # Take negative of npis to support positive\n",
    "        # weight constraint in Lasso.\n",
    "        X_npis = -all_npi_data[d - nb_lookback_days:d]\n",
    "\n",
    "        # Flatten all input data so it fits Lasso input format.\n",
    "        X_sample = np.concatenate([X_cases.flatten(),\n",
    "                                   X_npis.flatten()])\n",
    "        y_sample = all_case_data[d + 1]\n",
    "        X_samples.append(X_sample)\n",
    "        y_samples.append(y_sample)\n",
    "\n",
    "X_samples = np.array(X_samples)\n",
    "y_samples = np.array(y_samples).flatten()"
   ]
  },
  {
   "cell_type": "code",
   "execution_count": 26,
   "metadata": {
    "ExecuteTime": {
     "end_time": "2020-12-14T16:48:44.152405Z",
     "start_time": "2020-12-14T16:48:44.148192Z"
    }
   },
   "outputs": [
    {
     "name": "stdout",
     "output_type": "stream",
     "text": [
      "(48412, 390)\n",
      "(48412,)\n",
      "Number of features per day:  13.0\n"
     ]
    }
   ],
   "source": [
    "print(np.shape(X_samples))\n",
    "print(np.shape(y_samples))\n",
    "print(\"Number of features per day: \" ,390/nb_lookback_days)"
   ]
  },
  {
   "cell_type": "code",
   "execution_count": 27,
   "metadata": {
    "ExecuteTime": {
     "end_time": "2020-12-14T16:48:45.090320Z",
     "start_time": "2020-12-14T16:48:45.087236Z"
    }
   },
   "outputs": [],
   "source": [
    "# Helpful function to compute mae\n",
    "def mae(pred, true):\n",
    "    return np.mean(np.abs(pred - true))"
   ]
  },
  {
   "cell_type": "markdown",
   "metadata": {},
   "source": [
    "## Standard Train Test Split"
   ]
  },
  {
   "cell_type": "code",
   "execution_count": 28,
   "metadata": {
    "ExecuteTime": {
     "end_time": "2020-12-14T16:48:47.757091Z",
     "start_time": "2020-12-14T16:48:47.665199Z"
    }
   },
   "outputs": [],
   "source": [
    "# Split data into train and test sets\n",
    "X_train, X_test, y_train, y_test = train_test_split(X_samples,\n",
    "                                                    y_samples,\n",
    "                                                    test_size=0.2,\n",
    "                                                    random_state=301)"
   ]
  },
  {
   "cell_type": "code",
   "execution_count": 29,
   "metadata": {
    "ExecuteTime": {
     "end_time": "2020-12-14T16:48:49.377928Z",
     "start_time": "2020-12-14T16:48:49.065619Z"
    }
   },
   "outputs": [
    {
     "data": {
      "text/plain": [
       "Lasso(alpha=0.1, max_iter=10000, positive=True, precompute=True,\n",
       "      selection='random')"
      ]
     },
     "execution_count": 29,
     "metadata": {},
     "output_type": "execute_result"
    }
   ],
   "source": [
    "# Create and train Lasso model.\n",
    "# Set positive=True to enforce assumption that cases are positively correlated\n",
    "# with future cases and npis are negatively correlated.\n",
    "model = Lasso(alpha=0.1,\n",
    "              precompute=True,\n",
    "              max_iter=10000,\n",
    "              positive=True,\n",
    "              selection='random')\n",
    "# Fit model\n",
    "model.fit(X_train, y_train)"
   ]
  },
  {
   "cell_type": "code",
   "execution_count": 30,
   "metadata": {
    "ExecuteTime": {
     "end_time": "2020-12-14T16:48:50.803452Z",
     "start_time": "2020-12-14T16:48:50.778896Z"
    }
   },
   "outputs": [
    {
     "name": "stdout",
     "output_type": "stream",
     "text": [
      "Train MAE: 144.76191695486287\n",
      "Test MAE: 144.08534469294466\n"
     ]
    }
   ],
   "source": [
    "# Evaluate model\n",
    "train_preds = model.predict(X_train)\n",
    "train_preds = np.maximum(train_preds, 0) # Don't predict negative cases\n",
    "print('Train MAE:', mae(train_preds, y_train))\n",
    "\n",
    "test_preds = model.predict(X_test)\n",
    "test_preds = np.maximum(test_preds, 0) # Don't predict negative cases\n",
    "print('Test MAE:', mae(test_preds, y_test))"
   ]
  },
  {
   "cell_type": "code",
   "execution_count": 31,
   "metadata": {
    "ExecuteTime": {
     "end_time": "2020-12-14T16:48:54.499383Z",
     "start_time": "2020-12-14T16:48:54.495654Z"
    }
   },
   "outputs": [
    {
     "data": {
      "text/plain": [
       "numpy.datetime64('2020-07-31')"
      ]
     },
     "execution_count": 31,
     "metadata": {},
     "output_type": "execute_result"
    }
   ],
   "source": [
    "HYPOTHETICAL_SUBMISSION_DATE"
   ]
  },
  {
   "cell_type": "code",
   "execution_count": 32,
   "metadata": {
    "ExecuteTime": {
     "end_time": "2020-12-14T16:48:57.181037Z",
     "start_time": "2020-12-14T16:48:57.173240Z"
    }
   },
   "outputs": [
    {
     "name": "stdout",
     "output_type": "stream",
     "text": [
      "True\n",
      "['Aruba__nan' 'Afghanistan__nan' 'Angola__nan' 'Albania__nan'\n",
      " 'Andorra__nan' 'United Arab Emirates__nan' 'Argentina__nan'\n",
      " 'Australia__nan' 'Austria__nan' 'Azerbaijan__nan' 'Burundi__nan'\n",
      " 'Belgium__nan' 'Benin__nan' 'Burkina Faso__nan' 'Bangladesh__nan'\n",
      " 'Bulgaria__nan' 'Bahrain__nan' 'Bahamas__nan'\n",
      " 'Bosnia and Herzegovina__nan' 'Belarus__nan' 'Belize__nan' 'Bermuda__nan'\n",
      " 'Bolivia__nan' 'Brazil__Acre' 'Brazil__Alagoas' 'Brazil__Amazonas'\n",
      " 'Brazil__Amapa' 'Brazil__Bahia' 'Brazil__Ceara'\n",
      " 'Brazil__Distrito Federal' 'Brazil__Espirito Santo' 'Brazil__Goias'\n",
      " 'Brazil__Maranhao' 'Brazil__Minas Gerais' 'Brazil__Mato Grosso do Sul'\n",
      " 'Brazil__Mato Grosso' 'Brazil__Para' 'Brazil__Paraiba'\n",
      " 'Brazil__Pernambuco' 'Brazil__Piaui' 'Brazil__Parana'\n",
      " 'Brazil__Rio de Janeiro' 'Brazil__Rio Grande do Norte' 'Brazil__Rondonia'\n",
      " 'Brazil__Roraima' 'Brazil__Rio Grande do Sul' 'Brazil__Santa Catarina'\n",
      " 'Brazil__Sergipe' 'Brazil__Sao Paulo' 'Brazil__Tocantins' 'Brazil__nan'\n",
      " 'Barbados__nan' 'Brunei__nan' 'Bhutan__nan' 'Botswana__nan'\n",
      " 'Central African Republic__nan' 'Canada__nan' 'Switzerland__nan'\n",
      " 'Chile__nan' 'China__nan' \"Cote d'Ivoire__nan\" 'Cameroon__nan'\n",
      " 'Democratic Republic of Congo__nan' 'Congo__nan' 'Colombia__nan'\n",
      " 'Comoros__nan' 'Cape Verde__nan' 'Costa Rica__nan' 'Cuba__nan'\n",
      " 'Cyprus__nan' 'Czech Republic__nan' 'Germany__nan' 'Djibouti__nan'\n",
      " 'Dominica__nan' 'Denmark__nan' 'Dominican Republic__nan' 'Algeria__nan'\n",
      " 'Ecuador__nan' 'Egypt__nan' 'Eritrea__nan' 'Spain__nan' 'Estonia__nan'\n",
      " 'Ethiopia__nan' 'Finland__nan' 'Fiji__nan' 'France__nan'\n",
      " 'Faeroe Islands__nan' 'Gabon__nan' 'United Kingdom__nan'\n",
      " 'United Kingdom__England' 'United Kingdom__Northern Ireland'\n",
      " 'United Kingdom__Scotland' 'United Kingdom__Wales' 'Georgia__nan'\n",
      " 'Ghana__nan' 'Guinea__nan' 'Gambia__nan' 'Greece__nan' 'Greenland__nan'\n",
      " 'Guatemala__nan' 'Guam__nan' 'Guyana__nan' 'Hong Kong__nan'\n",
      " 'Honduras__nan' 'Croatia__nan' 'Haiti__nan' 'Hungary__nan'\n",
      " 'Indonesia__nan' 'India__nan' 'Ireland__nan' 'Iran__nan' 'Iraq__nan'\n",
      " 'Iceland__nan' 'Israel__nan' 'Italy__nan' 'Jamaica__nan' 'Jordan__nan'\n",
      " 'Japan__nan' 'Kazakhstan__nan' 'Kenya__nan' 'Kyrgyz Republic__nan'\n",
      " 'Cambodia__nan' 'South Korea__nan' 'Kuwait__nan' 'Laos__nan'\n",
      " 'Lebanon__nan' 'Liberia__nan' 'Libya__nan' 'Sri Lanka__nan'\n",
      " 'Lesotho__nan' 'Lithuania__nan' 'Luxembourg__nan' 'Latvia__nan'\n",
      " 'Macao__nan' 'Morocco__nan' 'Monaco__nan' 'Moldova__nan'\n",
      " 'Madagascar__nan' 'Mexico__nan' 'Mali__nan' 'Myanmar__nan'\n",
      " 'Mongolia__nan' 'Mozambique__nan' 'Mauritania__nan' 'Mauritius__nan'\n",
      " 'Malawi__nan' 'Malaysia__nan' 'Namibia__nan' 'Niger__nan' 'Nigeria__nan'\n",
      " 'Nicaragua__nan' 'Netherlands__nan' 'Norway__nan' 'Nepal__nan'\n",
      " 'New Zealand__nan' 'Oman__nan' 'Pakistan__nan' 'Panama__nan' 'Peru__nan'\n",
      " 'Philippines__nan' 'Papua New Guinea__nan' 'Poland__nan'\n",
      " 'Puerto Rico__nan' 'Portugal__nan' 'Paraguay__nan' 'Palestine__nan'\n",
      " 'Qatar__nan' 'Kosovo__nan' 'Romania__nan' 'Russia__nan' 'Rwanda__nan'\n",
      " 'Saudi Arabia__nan' 'Sudan__nan' 'Senegal__nan' 'Singapore__nan'\n",
      " 'Solomon Islands__nan' 'Sierra Leone__nan' 'El Salvador__nan'\n",
      " 'San Marino__nan' 'Somalia__nan' 'Serbia__nan' 'South Sudan__nan'\n",
      " 'Suriname__nan' 'Slovak Republic__nan' 'Slovenia__nan' 'Sweden__nan'\n",
      " 'Eswatini__nan' 'Seychelles__nan' 'Syria__nan' 'Chad__nan' 'Togo__nan'\n",
      " 'Thailand__nan' 'Tajikistan__nan' 'Turkmenistan__nan' 'Timor-Leste__nan'\n",
      " 'Tonga__nan' 'Trinidad and Tobago__nan' 'Tunisia__nan' 'Turkey__nan'\n",
      " 'Taiwan__nan' 'Tanzania__nan' 'Uganda__nan' 'Ukraine__nan' 'Uruguay__nan'\n",
      " 'United States__nan' 'United States__Alaska' 'United States__Alabama'\n",
      " 'United States__Arkansas' 'United States__Arizona'\n",
      " 'United States__California' 'United States__Colorado'\n",
      " 'United States__Connecticut' 'United States__Washington DC'\n",
      " 'United States__Delaware' 'United States__Florida'\n",
      " 'United States__Georgia' 'United States__Hawaii' 'United States__Iowa'\n",
      " 'United States__Idaho' 'United States__Illinois' 'United States__Indiana'\n",
      " 'United States__Kansas' 'United States__Kentucky'\n",
      " 'United States__Louisiana' 'United States__Massachusetts'\n",
      " 'United States__Maryland' 'United States__Maine'\n",
      " 'United States__Michigan' 'United States__Minnesota'\n",
      " 'United States__Missouri' 'United States__Mississippi'\n",
      " 'United States__Montana' 'United States__North Carolina'\n",
      " 'United States__North Dakota' 'United States__Nebraska'\n",
      " 'United States__New Hampshire' 'United States__New Jersey'\n",
      " 'United States__New Mexico' 'United States__Nevada'\n",
      " 'United States__New York' 'United States__Ohio' 'United States__Oklahoma'\n",
      " 'United States__Oregon' 'United States__Pennsylvania'\n",
      " 'United States__Rhode Island' 'United States__South Carolina'\n",
      " 'United States__South Dakota' 'United States__Tennessee'\n",
      " 'United States__Texas' 'United States__Utah' 'United States__Virginia'\n",
      " 'United States__Virgin Islands' 'United States__Vermont'\n",
      " 'United States__Washington' 'United States__Wisconsin'\n",
      " 'United States__West Virginia' 'United States__Wyoming' 'Uzbekistan__nan'\n",
      " 'Venezuela__nan' 'United States Virgin Islands__nan' 'Vietnam__nan'\n",
      " 'Vanuatu__nan' 'Yemen__nan' 'South Africa__nan' 'Zambia__nan'\n",
      " 'Zimbabwe__nan']\n"
     ]
    }
   ],
   "source": [
    "geo_ids = df.GeoID.unique()\n",
    "print(\"France__nan\" in geo_ids)\n",
    "print(geo_ids)"
   ]
  },
  {
   "cell_type": "code",
   "execution_count": 38,
   "metadata": {
    "ExecuteTime": {
     "end_time": "2020-12-14T19:33:03.775021Z",
     "start_time": "2020-12-14T19:33:03.739144Z"
    }
   },
   "outputs": [],
   "source": [
    "geo_id = \"France__nan\"\n",
    "\n",
    "# Set number of past days to use to make predictions\n",
    "nb_lookback_days = 30\n",
    "\n",
    "# Create training data across all countries for predicting one day ahead\n",
    "X_cols = cases_col + npi_cols\n",
    "y_col = cases_col\n",
    "X = []\n",
    "\n",
    "gdf = df[df.GeoID == geo_id]\n",
    "all_case_data = np.array(gdf[cases_col])\n",
    "all_npi_data = np.array(gdf[npi_cols])\n",
    "\n",
    "# Create one sample for each day where we have enough data\n",
    "# Each sample consists of cases and npis for previous nb_lookback_days\n",
    "nb_total_days = len(gdf)\n",
    "d = -1\n",
    "\n",
    "X_cases = all_case_data[d-nb_lookback_days:d]\n",
    "\n",
    "# Take negative of npis to support positive\n",
    "# weight constraint in Lasso.\n",
    "X_npis = -all_npi_data[d - nb_lookback_days:d]\n",
    "\n",
    "# Flatten all input data so it fits Lasso input format.\n",
    "X_sample = np.concatenate([X_cases.flatten(),\n",
    "                           X_npis.flatten()])\n",
    "\n",
    "X.append(X_sample)\n",
    "\n",
    "X = np.array(X)"
   ]
  },
  {
   "cell_type": "code",
   "execution_count": 39,
   "metadata": {
    "ExecuteTime": {
     "end_time": "2020-12-14T19:33:05.319518Z",
     "start_time": "2020-12-14T19:33:05.306399Z"
    }
   },
   "outputs": [],
   "source": [
    "nb_future_days = 30\n",
    "\n",
    "X_npis_, X_cases_ = X_npis.copy(), X_cases.copy()\n",
    "X_ = X.copy()\n",
    "\n",
    "y_preds = []\n",
    "\n",
    "for d in range(nb_future_days):\n",
    "\n",
    "    y_ = model.predict(X_)\n",
    "\n",
    "    y_preds.append(y_[0])\n",
    "\n",
    "    # Assuming constant NPIs here\n",
    "    X_npis_ = np.concatenate([X_npis_[-(nb_lookback_days-1):], X_npis_[-1:]], axis=0)\n",
    "    X_cases_ = np.concatenate([X_cases_[-(nb_lookback_days-1):], y_.reshape(-1, 1)], axis=0)\n",
    "    X_ =  np.concatenate([X_cases_.flatten(), X_npis_.flatten()])\n",
    "    X_ = np.array([X_])\n",
    "\n"
   ]
  },
  {
   "cell_type": "code",
   "execution_count": 40,
   "metadata": {
    "ExecuteTime": {
     "end_time": "2020-12-14T19:33:06.078904Z",
     "start_time": "2020-12-14T19:33:06.070110Z"
    }
   },
   "outputs": [],
   "source": [
    "y_col = cases_col\n",
    "\n",
    "\n",
    "gdf = df_test[df_test.GeoID == geo_id]\n",
    "all_case_data = np.array(gdf[cases_col])\n",
    "\n",
    "y_true = list(all_case_data[:nb_future_days].flatten())"
   ]
  },
  {
   "cell_type": "code",
   "execution_count": 41,
   "metadata": {
    "ExecuteTime": {
     "end_time": "2020-12-14T19:33:07.240948Z",
     "start_time": "2020-12-14T19:33:06.924600Z"
    }
   },
   "outputs": [
    {
     "data": {
      "image/png": "[encoded data removed]",
      "text/plain": [
       "<Figure size 900x600 with 1 Axes>"
      ]
     },
     "metadata": {
      "needs_background": "light"
     },
     "output_type": "display_data"
    }
   ],
   "source": [
    "y_in = list(X_cases.flatten())\n",
    "x_in = list(range(len(y_in)))\n",
    "\n",
    "\n",
    "y_out = list(y_in[-1:]) + list(y_preds)\n",
    "x_out = x_in[-1:] + [i+len(x_in) for i in range(len(y_out)-1)]\n",
    "\n",
    "y_true_plot = list(y_in[-1:]) + y_true\n",
    "x_true_plot = x_out\n",
    "\n",
    "mae_error = mae(np.array(y_preds), np.array(y_true))\n",
    "\n",
    "plt.figure()\n",
    "plt.title(geo_id)\n",
    "plt.plot(x_in, y_in, label=\"input\")\n",
    "plt.plot(x_out, y_out, label=\"prediction\")\n",
    "plt.plot(x_true_plot, y_true_plot, label=\"true\")\n",
    "plt.ylabel(\"New Cases\")\n",
    "plt.xlabel(\"Days\")\n",
    "ax = plt.gca()\n",
    "plt.text(0.5, 0.5, f\"mae={mae_error:.2f}\", transform=ax.transAxes)\n",
    "plt.legend()\n",
    "plt.show()"
   ]
  },
  {
   "cell_type": "code",
   "execution_count": null,
   "metadata": {
    "ExecuteTime": {
     "end_time": "2020-12-14T16:19:25.443000Z",
     "start_time": "2020-12-14T16:19:25.284Z"
    }
   },
   "outputs": [],
   "source": []
  },
  {
   "cell_type": "markdown",
   "metadata": {},
   "source": [
    "## Temporal Train Test Split"
   ]
  },
  {
   "cell_type": "code",
   "execution_count": null,
   "metadata": {},
   "outputs": [],
   "source": [
    "# Set number of past days to use to make predictions\n",
    "nb_lookback_days = 30\n",
    "\n",
    "# Create training data across all countries for predicting one day ahead\n",
    "X_cols = cases_col + npi_cols\n",
    "y_col = cases_col\n",
    "\n",
    "# X_samples = []\n",
    "\n",
    "X_train, y_train = [], []\n",
    "X_test, y_test = [], []\n",
    "\n",
    "y_samples = []\n",
    "geo_ids = df.GeoID.unique()\n",
    "for g in geo_ids:\n",
    "    gdf = df[df.GeoID == g]\n",
    "    all_case_data = np.array(gdf[cases_col])\n",
    "    all_npi_data = np.array(gdf[npi_cols])\n",
    "\n",
    "    # Create one sample for each day where we have enough data\n",
    "    # Each sample consists of cases and npis for previous nb_lookback_days\n",
    "    nb_total_days = len(gdf)\n",
    "    for d in range(nb_lookback_days, nb_total_days - 1):\n",
    "        X_cases = all_case_data[d-nb_lookback_days:d]\n",
    "\n",
    "        # Take negative of npis to support positive\n",
    "        # weight constraint in Lasso.\n",
    "        X_npis = -all_npi_data[d - nb_lookback_days:d]\n",
    "\n",
    "        # Flatten all input data so it fits Lasso input format.\n",
    "        X_sample = np.concatenate([X_cases.flatten(),\n",
    "                                   X_npis.flatten()])\n",
    "        y_sample = all_case_data[d + 1]\n",
    "        X_samples.append(X_sample)\n",
    "        y_samples.append(y_sample)\n",
    "\n",
    "X_samples = np.array(X_samples)\n",
    "y_samples = np.array(y_samples).flatten()"
   ]
  },
  {
   "cell_type": "code",
   "execution_count": 43,
   "metadata": {
    "ExecuteTime": {
     "end_time": "2020-12-14T12:52:49.566387Z",
     "start_time": "2020-12-14T12:52:49.563903Z"
    }
   },
   "outputs": [],
   "source": [
    "from sklearn.model_selection import TimeSeriesSplit"
   ]
  },
  {
   "cell_type": "code",
   "execution_count": 49,
   "metadata": {
    "ExecuteTime": {
     "end_time": "2020-12-14T12:59:15.994241Z",
     "start_time": "2020-12-14T12:59:15.990112Z"
    }
   },
   "outputs": [
    {
     "name": "stdout",
     "output_type": "stream",
     "text": [
      "(48412, 390)\n",
      "(48412,)\n",
      "Number of features per day:  13.0\n",
      "Number of Days available:  48412\n",
      "Max Train Size:  48382\n"
     ]
    }
   ],
   "source": [
    "print(np.shape(X_samples))\n",
    "print(np.shape(y_samples))\n",
    "print(\"Number of features per day: \" ,390/nb_lookback_days)\n",
    "\n",
    "number_available_days = np.shape(X_samples)[0]\n",
    "max_train_size = number_available_days - 30\n",
    "print(\"Number of Days available: \", number_available_days)\n",
    "print(\"Max Train Size: \", max_train_size)"
   ]
  },
  {
   "cell_type": "code",
   "execution_count": 50,
   "metadata": {
    "ExecuteTime": {
     "end_time": "2020-12-14T12:59:27.856146Z",
     "start_time": "2020-12-14T12:59:27.464674Z"
    }
   },
   "outputs": [
    {
     "name": "stdout",
     "output_type": "stream",
     "text": [
      "TRAIN INDEX: 0=>16137, TEST: 16138=>32274\n",
      "Train MAE: 202.78154182211506\n",
      "Test MAE: 123.8485797902486\n",
      "\n",
      "TRAIN INDEX: 0=>32274, TEST: 32275=>48411\n",
      "Train MAE: 146.26177736539455\n",
      "Test MAE: 145.2805975456515\n",
      "\n"
     ]
    }
   ],
   "source": [
    "tscv = TimeSeriesSplit(n_splits=2, max_train_size=max_train_size)\n",
    "\n",
    "for train_index, test_index in tscv.split(X_samples):\n",
    "    print(f\"TRAIN INDEX: {train_index[0]}=>{train_index[-1]}, TEST: {test_index[0]}=>{test_index[-1]}\")\n",
    "    X_train, X_test = X_samples[train_index], X_samples[test_index]\n",
    "    y_train, y_test = y_samples[train_index], y_samples[test_index]\n",
    "    \n",
    "    # Create and train Lasso model.\n",
    "    # Set positive=True to enforce assumption that cases are positively correlated\n",
    "    # with future cases and npis are negatively correlated.\n",
    "    model = Lasso(alpha=0.1,\n",
    "                  precompute=True,\n",
    "                  max_iter=20000,\n",
    "                  positive=True,\n",
    "                  selection='random')\n",
    "    \n",
    "    # Fit model\n",
    "    model.fit(X_train, y_train) \n",
    "   \n",
    "    # Evaluate model\n",
    "    train_preds = model.predict(X_train)\n",
    "    train_preds = np.maximum(train_preds, 0) # Don't predict negative cases\n",
    "    print('Train MAE:', mae(train_preds, y_train))\n",
    "\n",
    "    test_preds = model.predict(X_test)\n",
    "    test_preds = np.maximum(test_preds, 0) # Don't predict negative cases\n",
    "    print('Test MAE:', mae(test_preds, y_test))\n",
    "    print()"
   ]
  },
  {
   "cell_type": "code",
   "execution_count": 53,
   "metadata": {
    "ExecuteTime": {
     "end_time": "2020-12-14T13:01:39.799419Z",
     "start_time": "2020-12-14T13:01:39.539823Z"
    }
   },
   "outputs": [
    {
     "data": {
      "image/png": "[encoded data removed]",
      "text/plain": [
       "<Figure size 900x600 with 1 Axes>"
      ]
     },
     "metadata": {
      "needs_background": "light"
     },
     "output_type": "display_data"
    }
   ],
   "source": [
    "plt.figure()\n",
    "plt.plot(y_test, alpha=0.5, label=\"truth\")\n",
    "plt.plot(test_preds, alpha=0.5, label=\"pred\")\n",
    "plt.legend()\n",
    "plt.show()"
   ]
  },
  {
   "cell_type": "code",
   "execution_count": 42,
   "metadata": {
    "ExecuteTime": {
     "end_time": "2020-12-14T12:41:27.323518Z",
     "start_time": "2020-12-14T12:41:27.320713Z"
    }
   },
   "outputs": [
    {
     "name": "stdout",
     "output_type": "stream",
     "text": [
      "(38729,)\n",
      "(9683,)\n"
     ]
    }
   ],
   "source": [
    "print(np.shape(train_preds))\n",
    "print(np.shape(test_preds))"
   ]
  },
  {
   "cell_type": "code",
   "execution_count": 41,
   "metadata": {
    "ExecuteTime": {
     "end_time": "2020-12-14T12:39:28.823891Z",
     "start_time": "2020-12-14T12:39:28.818191Z"
    }
   },
   "outputs": [
    {
     "name": "stdout",
     "output_type": "stream",
     "text": [
      "Day -7 NewCases 0.04502830911119007\n",
      "Day -6 NewCases 0.39791569874550614\n",
      "Day -5 NewCases 0.2342659110126543\n",
      "Day -4 NewCases 0.05555994147337618\n",
      "Day -3 NewCases 0.028952820558776543\n",
      "Day -2 NewCases 0.07127364541444246\n",
      "Day -1 NewCases 0.2363196228611909\n",
      "Day -26 C6_Stay at home requirements 10.543180886930438\n",
      "Day -22 C2_Workplace closing 1.5288795815265857\n",
      "Day -21 C2_Workplace closing 8.378794612505022\n",
      "Intercept 28.80631398468313\n"
     ]
    }
   ],
   "source": [
    "# Inspect the learned feature coefficients for the model\n",
    "# to see what features it's paying attention to.\n",
    "\n",
    "# Give names to the features\n",
    "x_col_names = []\n",
    "for d in range(-nb_lookback_days, 0):\n",
    "    x_col_names.append('Day ' + str(d) + ' ' + cases_col[0])\n",
    "for d in range(-nb_lookback_days, 1):\n",
    "    for col_name in npi_cols:\n",
    "        x_col_names.append('Day ' + str(d) + ' ' + col_name)\n",
    "\n",
    "# View non-zero coefficients\n",
    "for (col, coeff) in zip(x_col_names, list(model.coef_)):\n",
    "    if coeff != 0.:\n",
    "        print(col, coeff)\n",
    "        "
   ]
  },
  {
   "cell_type": "code",
   "execution_count": null,
   "metadata": {},
   "outputs": [],
   "source": [
    "# Save model to file\n",
    "if not os.path.exists('models'):\n",
    "    os.mkdir('models')\n",
    "with open('models/model.pkl', 'wb') as model_file:\n",
    "    pickle.dump(model, model_file)"
   ]
  },
  {
   "cell_type": "markdown",
   "metadata": {},
   "source": [
    "## Evaluation\n",
    "\n",
    "Now that the predictor has been trained and saved, this section contains the functionality for evaluating it on sample evaluation data."
   ]
  },
  {
   "cell_type": "code",
   "execution_count": null,
   "metadata": {},
   "outputs": [],
   "source": [
    "# Reload the module to get the latest changes\n",
    "import predict\n",
    "from importlib import reload\n",
    "reload(predict)\n",
    "from predict import predict_df"
   ]
  },
  {
   "cell_type": "code",
   "execution_count": null,
   "metadata": {},
   "outputs": [],
   "source": [
    "%%time\n",
    "preds_df = predict_df(\"2020-08-01\", \"2020-08-31\", path_to_ips_file=\"../../../validation/data/2020-09-30_historical_ip.csv\", verbose=True)"
   ]
  },
  {
   "cell_type": "code",
   "execution_count": null,
   "metadata": {},
   "outputs": [],
   "source": [
    "# Check the predictions\n",
    "preds_df.head()"
   ]
  },
  {
   "cell_type": "markdown",
   "metadata": {},
   "source": [
    "# Validation\n",
    "This is how the predictor is going to be called during the competition.  \n",
    "!!! PLEASE DO NOT CHANGE THE API !!!"
   ]
  },
  {
   "cell_type": "code",
   "execution_count": null,
   "metadata": {},
   "outputs": [],
   "source": [
    "!python predict.py -s 2020-08-01 -e 2020-08-04 -ip ../../../validation/data/2020-09-30_historical_ip.csv -o predictions/2020-08-01_2020-08-04.csv"
   ]
  },
  {
   "cell_type": "code",
   "execution_count": null,
   "metadata": {},
   "outputs": [],
   "source": [
    "!head predictions/2020-08-01_2020-08-04.csv"
   ]
  },
  {
   "cell_type": "markdown",
   "metadata": {},
   "source": [
    "# Test cases\n",
    "We can generate a prediction file. Let's validate a few cases..."
   ]
  },
  {
   "cell_type": "code",
   "execution_count": null,
   "metadata": {},
   "outputs": [],
   "source": [
    "import os\n",
    "from covid_xprize.validation.predictor_validation import validate_submission\n",
    "\n",
    "def validate(start_date, end_date, ip_file, output_file):\n",
    "    # First, delete any potential old file\n",
    "    try:\n",
    "        os.remove(output_file)\n",
    "    except OSError:\n",
    "        pass\n",
    "    \n",
    "    # Then generate the prediction, calling the official API\n",
    "    !python predict.py -s {start_date} -e {end_date} -ip {ip_file} -o {output_file}\n",
    "    \n",
    "    # And validate it\n",
    "    errors = validate_submission(start_date, end_date, ip_file, output_file)\n",
    "    if errors:\n",
    "        for error in errors:\n",
    "            print(error)\n",
    "    else:\n",
    "        print(\"All good!\")"
   ]
  },
  {
   "cell_type": "markdown",
   "metadata": {},
   "source": [
    "## 4 days, no gap\n",
    "- All countries and regions\n",
    "- Official number of cases is known up to start_date\n",
    "- Intervention Plans are the official ones"
   ]
  },
  {
   "cell_type": "code",
   "execution_count": null,
   "metadata": {},
   "outputs": [],
   "source": [
    "validate(start_date=\"2020-08-01\",\n",
    "         end_date=\"2020-08-04\",\n",
    "         ip_file=\"../../../validation/data/2020-09-30_historical_ip.csv\",\n",
    "         output_file=\"predictions/val_4_days.csv\")"
   ]
  },
  {
   "cell_type": "markdown",
   "metadata": {},
   "source": [
    "## 1 month in the future\n",
    "- 2 countries only\n",
    "- there's a gap between date of last known number of cases and start_date\n",
    "- For future dates, Intervention Plans contains scenarios for which predictions are requested to answer the question: what will happen if we apply these plans?"
   ]
  },
  {
   "cell_type": "code",
   "execution_count": null,
   "metadata": {},
   "outputs": [],
   "source": [
    "%%time\n",
    "validate(start_date=\"2021-01-01\",\n",
    "         end_date=\"2021-01-31\",\n",
    "         ip_file=\"../../../validation/data/future_ip.csv\",\n",
    "         output_file=\"predictions/val_1_month_future.csv\")"
   ]
  },
  {
   "cell_type": "markdown",
   "metadata": {},
   "source": [
    "## 180 days, from a future date, all countries and regions\n",
    "- Prediction start date is 1 week from now. (i.e. assuming submission date is 1 week from now)  \n",
    "- Prediction end date is 6 months after start date.  \n",
    "- Prediction is requested for all available countries and regions.  \n",
    "- Intervention plan scenario: freeze last known intervention plans for each country and region.  \n",
    "\n",
    "As the number of cases is not known yet between today and start date, but the model relies on them, the model has to predict them in order to use them.  \n",
    "This test is the most demanding test. It should take less than 1 hour to generate the prediction file."
   ]
  },
  {
   "cell_type": "markdown",
   "metadata": {},
   "source": [
    "### Generate the scenario"
   ]
  },
  {
   "cell_type": "code",
   "execution_count": null,
   "metadata": {},
   "outputs": [],
   "source": [
    "from datetime import datetime, timedelta\n",
    "\n",
    "start_date = datetime.now() + timedelta(days=7)\n",
    "start_date_str = start_date.strftime('%Y-%m-%d')\n",
    "end_date = start_date + timedelta(days=180)\n",
    "end_date_str = end_date.strftime('%Y-%m-%d')\n",
    "print(f\"Start date: {start_date_str}\")\n",
    "print(f\"End date: {end_date_str}\")"
   ]
  },
  {
   "cell_type": "code",
   "execution_count": null,
   "metadata": {},
   "outputs": [],
   "source": [
    "from covid_xprize.validation.scenario_generator import get_raw_data, generate_scenario, NPI_COLUMNS\n",
    "DATA_FILE = 'data/OxCGRT_latest.csv'\n",
    "latest_df = get_raw_data(DATA_FILE, latest=True)\n",
    "scenario_df = generate_scenario(start_date_str, end_date_str, latest_df, countries=None, scenario=\"Freeze\")\n",
    "scenario_file = \"predictions/180_days_future_scenario.csv\"\n",
    "scenario_df.to_csv(scenario_file, index=False)\n",
    "print(f\"Saved scenario to {scenario_file}\")"
   ]
  },
  {
   "cell_type": "markdown",
   "metadata": {},
   "source": [
    "### Check it"
   ]
  },
  {
   "cell_type": "code",
   "execution_count": null,
   "metadata": {},
   "outputs": [],
   "source": [
    "%%time\n",
    "validate(start_date=start_date_str,\n",
    "         end_date=end_date_str,\n",
    "         ip_file=scenario_file,\n",
    "         output_file=\"predictions/val_6_month_future.csv\")"
   ]
  },
  {
   "cell_type": "code",
   "execution_count": null,
   "metadata": {},
   "outputs": [],
   "source": []
  }
 ],
 "metadata": {
  "kernelspec": {
   "display_name": "Python 3",
   "language": "python",
   "name": "python3"
  },
  "language_info": {
   "codemirror_mode": {
    "name": "ipython",
    "version": 3
   },
   "file_extension": ".py",
   "mimetype": "text/x-python",
   "name": "python",
   "nbconvert_exporter": "python",
   "pygments_lexer": "ipython3",
   "version": "3.7.9"
  },
  "pycharm": {
   "stem_cell": {
    "cell_type": "raw",
    "metadata": {
     "collapsed": false
    },
    "source": [
     "# Copyright 2020 (c) Cognizant Digital Business, Evolutionary AI. All rights reserved. Issued under the Apache 2.0 License."
    ]
   }
  },
  "toc": {
   "base_numbering": 1,
   "nav_menu": {},
   "number_sections": true,
   "sideBar": true,
   "skip_h1_title": false,
   "title_cell": "Table of Contents",
   "title_sidebar": "Contents",
   "toc_cell": false,
   "toc_position": {},
   "toc_section_display": true,
   "toc_window_display": false
  }
 },
 "nbformat": 4,
 "nbformat_minor": 4
}
