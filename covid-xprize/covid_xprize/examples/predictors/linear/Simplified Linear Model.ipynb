{
 "cells": [
  {
   "cell_type": "code",
   "execution_count": 1,
   "metadata": {
    "ExecuteTime": {
     "end_time": "2020-12-15T08:30:11.238484Z",
     "start_time": "2020-12-15T08:30:11.171696Z"
    }
   },
   "outputs": [],
   "source": [
    "%load_ext autoreload\n",
    "%autoreload 2"
   ]
  },
  {
   "cell_type": "code",
   "execution_count": 2,
   "metadata": {
    "ExecuteTime": {
     "end_time": "2020-12-15T08:30:13.695786Z",
     "start_time": "2020-12-15T08:30:11.758061Z"
    }
   },
   "outputs": [],
   "source": [
    "%matplotlib inline\n",
    "import matplotlib as mpl\n",
    "import matplotlib.pyplot as plt\n",
    "mpl.rcParams['figure.dpi']= 150"
   ]
  },
  {
   "cell_type": "code",
   "execution_count": 48,
   "metadata": {
    "ExecuteTime": {
     "end_time": "2020-12-15T09:11:33.540350Z",
     "start_time": "2020-12-15T09:11:33.268969Z"
    }
   },
   "outputs": [],
   "source": [
    "import numpy as np\n",
    "\n",
    "import ipywidgets as widgets\n",
    "from ipywidgets import interact\n",
    "\n",
    "# Data\n",
    "from transat.data import HYPOTHETICAL_SUBMISSION_DATE\n",
    "from transat.data.load import download_historical, load_historical\n",
    "from transat.data.split import split_historical\n",
    "from transat.data.transform import preprocess_historical_basic, dataframe_to_array\n",
    "\n",
    "# Metric\n",
    "from transat.metric import mae\n",
    "\n",
    "# Scenario/Simulation\n",
    "from transat.data.scenario import generate_scenario"
   ]
  },
  {
   "cell_type": "code",
   "execution_count": 4,
   "metadata": {
    "ExecuteTime": {
     "end_time": "2020-12-15T08:30:15.920570Z",
     "start_time": "2020-12-15T08:30:14.637282Z"
    }
   },
   "outputs": [],
   "source": [
    "download_historical()\n",
    "df = load_historical()"
   ]
  },
  {
   "cell_type": "code",
   "execution_count": 5,
   "metadata": {
    "ExecuteTime": {
     "end_time": "2020-12-15T08:30:16.404798Z",
     "start_time": "2020-12-15T08:30:15.922690Z"
    }
   },
   "outputs": [],
   "source": [
    "df = preprocess_historical_basic(df)"
   ]
  },
  {
   "cell_type": "code",
   "execution_count": 6,
   "metadata": {
    "ExecuteTime": {
     "end_time": "2020-12-15T08:30:16.437014Z",
     "start_time": "2020-12-15T08:30:16.406745Z"
    }
   },
   "outputs": [
    {
     "name": "stdout",
     "output_type": "stream",
     "text": [
      "Spliting at :  2020-07-31\n"
     ]
    }
   ],
   "source": [
    "print(\"Spliting at : \", HYPOTHETICAL_SUBMISSION_DATE)\n",
    "df_train, df_test = split_historical(df, HYPOTHETICAL_SUBMISSION_DATE)"
   ]
  },
  {
   "cell_type": "code",
   "execution_count": 33,
   "metadata": {
    "ExecuteTime": {
     "end_time": "2020-12-15T08:48:07.692425Z",
     "start_time": "2020-12-15T08:48:04.975483Z"
    }
   },
   "outputs": [
    {
     "name": "stdout",
     "output_type": "stream",
     "text": [
      "X_train shape:  (48412, 390)\n",
      "y_train shape:  (48412,)\n",
      "\n",
      "X_test  shape:  (27930, 390)\n",
      "y_test  shape:  (27930,)\n"
     ]
    }
   ],
   "source": [
    "nb_lookback_days = 30\n",
    "sequence_format = True\n",
    "\n",
    "(X_train, y_train), (X_cols, y_col) = dataframe_to_array(df_train, nb_lookback_days=nb_lookback_days,\n",
    "    sequence_format=sequence_format)\n",
    "(X_test, y_test), _ = dataframe_to_array(df_test, nb_lookback_days=nb_lookback_days,\n",
    "    sequence_format=sequence_format)\n",
    "\n",
    "X_train, y_train = X_train.reshape(X_train.shape[0], -1), y_train.reshape(-1)\n",
    "X_test, y_test = X_test.reshape(X_test.shape[0], -1), y_test.reshape(-1)\n",
    "\n",
    "print(\"X_train shape: \", np.shape(X_train))\n",
    "print(\"y_train shape: \", np.shape(y_train))\n",
    "print()\n",
    "print(\"X_test  shape: \", np.shape(X_test))\n",
    "print(\"y_test  shape: \", np.shape(y_test))"
   ]
  },
  {
   "cell_type": "code",
   "execution_count": 34,
   "metadata": {
    "ExecuteTime": {
     "end_time": "2020-12-15T08:48:12.307384Z",
     "start_time": "2020-12-15T08:48:11.860091Z"
    }
   },
   "outputs": [
    {
     "data": {
      "text/plain": [
       "Lasso(alpha=0.1, max_iter=20000, positive=True, precompute=True,\n",
       "      selection='random')"
      ]
     },
     "execution_count": 34,
     "metadata": {},
     "output_type": "execute_result"
    }
   ],
   "source": [
    "# Create and train Lasso model.\n",
    "# Set positive=True to enforce assumption that cases are positively correlated\n",
    "# with future cases and npis are negatively correlated.\n",
    "\n",
    "from sklearn.linear_model import Lasso\n",
    "from sklearn.model_selection import train_test_split\n",
    "\n",
    "# from sklearn.utils import shuffle\n",
    "# X_train, y_train = shuffle(X_train, y_train)\n",
    "\n",
    "# Split data into train and test sets\n",
    "X_train, X_valid , y_train, y_valid= train_test_split(\n",
    "    X_train,\n",
    "    y_train,\n",
    "    test_size=0.2,\n",
    "    random_state=301\n",
    ")\n",
    "\n",
    "model = Lasso(alpha=0.1,\n",
    "              precompute=True,\n",
    "              max_iter=20000,\n",
    "              positive=True,\n",
    "              selection='random')\n",
    "# Fit model\n",
    "model.fit(X_train, y_train)"
   ]
  },
  {
   "cell_type": "code",
   "execution_count": 35,
   "metadata": {
    "ExecuteTime": {
     "end_time": "2020-12-15T08:48:13.649085Z",
     "start_time": "2020-12-15T08:48:13.582444Z"
    }
   },
   "outputs": [
    {
     "name": "stdout",
     "output_type": "stream",
     "text": [
      "Train MAE: 144.76205640510753\n",
      "Valid MAE: 144.08718562729703\n",
      "Test MAE: 593.6835222049625\n"
     ]
    }
   ],
   "source": [
    "# Evaluate model\n",
    "train_preds = model.predict(X_train)\n",
    "train_preds = np.maximum(train_preds, 0) # Don't predict negative cases\n",
    "print('Train MAE:', mae(train_preds, y_train))\n",
    "\n",
    "valid_preds = model.predict(X_valid)\n",
    "valid_preds = np.maximum(valid_preds, 0) # Don't predict negative cases\n",
    "print('Valid MAE:', mae(valid_preds, y_valid))\n",
    "\n",
    "test_preds = model.predict(X_test)\n",
    "test_preds = np.maximum(test_preds, 0) # Don't predict negative cases\n",
    "print('Test MAE:', mae(test_preds, y_test))"
   ]
  },
  {
   "cell_type": "code",
   "execution_count": 50,
   "metadata": {
    "ExecuteTime": {
     "end_time": "2020-12-15T09:37:39.704723Z",
     "start_time": "2020-12-15T09:37:39.597702Z"
    }
   },
   "outputs": [
    {
     "data": {
      "text/plain": [
       "(38729,)"
      ]
     },
     "execution_count": 50,
     "metadata": {},
     "output_type": "execute_result"
    }
   ],
   "source": [
    "np.shape(train_preds)"
   ]
  },
  {
   "cell_type": "code",
   "execution_count": 36,
   "metadata": {
    "ExecuteTime": {
     "end_time": "2020-12-15T08:48:23.156086Z",
     "start_time": "2020-12-15T08:48:23.131495Z"
    }
   },
   "outputs": [
    {
     "name": "stdout",
     "output_type": "stream",
     "text": [
      "Day -28 C5_Close public transport 7.393085491894867\n",
      "Day -24 C5_Close public transport 5.096308071819734\n",
      "Day -23 C6_Stay at home requirements 7.8323086418297265\n",
      "Day -8 C6_Stay at home requirements 0.04439534791377654\n",
      "Day -7 C7_Restrictions on internal movement 0.3867433709844503\n",
      "Day -6 C8_International travel controls 0.2551910499458127\n",
      "Day -5 H1_Public information campaigns 0.060916798635437884\n",
      "Day -4 H2_Testing policy 0.03428772542445764\n",
      "Day -3 H3_Contact tracing 0.09731438685625388\n",
      "Day -2 H6_Facial Coverings 0.1919230738622441\n",
      "Intercept 29.19191189624172\n"
     ]
    }
   ],
   "source": [
    "# Inspect the learned feature coefficients for the model\n",
    "# to see what features it's paying attention to.\n",
    "\n",
    "# Give names to the features\n",
    "x_col_names = []\n",
    "for d in range(-nb_lookback_days, 0):\n",
    "    x_col_names.append('Day ' + str(d) + ' ' + X_cols[0])\n",
    "for d in range(-nb_lookback_days, 1):\n",
    "    for col_name in X_cols[1:]:\n",
    "        x_col_names.append('Day ' + str(d) + ' ' + col_name)\n",
    "\n",
    "# View non-zero coefficients\n",
    "for (col, coeff) in zip(x_col_names, list(model.coef_)):\n",
    "    if coeff != 0.:\n",
    "        print(col, coeff)\n",
    "print('Intercept', model.intercept_)"
   ]
  },
  {
   "cell_type": "code",
   "execution_count": 37,
   "metadata": {
    "ExecuteTime": {
     "end_time": "2020-12-15T08:48:24.861450Z",
     "start_time": "2020-12-15T08:48:24.831241Z"
    }
   },
   "outputs": [
    {
     "name": "stdout",
     "output_type": "stream",
     "text": [
      "(1, 30, 13)\n",
      "(1, 30, 1)\n"
     ]
    }
   ],
   "source": [
    "\n"
   ]
  },
  {
   "cell_type": "code",
   "execution_count": 42,
   "metadata": {
    "ExecuteTime": {
     "end_time": "2020-12-15T09:01:45.820757Z",
     "start_time": "2020-12-15T09:01:45.786981Z"
    }
   },
   "outputs": [],
   "source": [
    "def simulate_scenario(X_scenario, y_scenario):\n",
    "    # Simulate scenario\n",
    "\n",
    "    X_sim = X_scenario.copy()\n",
    "    X_sim_cases = X_sim[:,:,:1]\n",
    "    X_sim_npis = X_sim[:,:,1:]\n",
    "    y_sim = np.zeros(np.shape(y_scenario))\n",
    "\n",
    "    nb_lookback_days = X_sim.shape[1]\n",
    "\n",
    "    for d in range(y_sim.shape[1]):\n",
    "\n",
    "        y = model.predict(X_sim.reshape(1,-1))\n",
    "        y_sim[0,d,0] = max(y[0], 0)\n",
    "\n",
    "        # Assuming constant NPIs here\n",
    "        X_sim_npis = np.concatenate([X_sim_npis[:,1:], X_sim_npis[:,-1:]], axis=1)\n",
    "        X_sim_cases = np.concatenate([X_sim_cases[:,1:], y.reshape(-1, 1, 1)], axis=1)\n",
    "\n",
    "        X_sim =  np.concatenate([X_sim_cases, X_sim_npis], axis=-1)\n",
    "        X_sim = np.array(X_sim)\n",
    "    \n",
    "    return y_sim"
   ]
  },
  {
   "cell_type": "code",
   "execution_count": 44,
   "metadata": {
    "ExecuteTime": {
     "end_time": "2020-12-15T09:06:10.486892Z",
     "start_time": "2020-12-15T09:06:10.285190Z"
    }
   },
   "outputs": [],
   "source": [
    "def viz_scenario(geo_id, X_scenario, y_scenario, y_sim):\n",
    "    mae_error = mae(y_scenario, y_sim)\n",
    "\n",
    "    plt.figure()\n",
    "    plt.title(geo_id)\n",
    "\n",
    "    plot_input_x = np.arange(X_scenario.shape[1])\n",
    "    plot_input_y = X_scenario[:,:,:1].reshape(-1)\n",
    "\n",
    "    plt.plot(plot_input_x, plot_input_y, label=\"Input Scenario\")\n",
    "\n",
    "    plot_output_x = np.arange(y_scenario.shape[1])+X_scenario.shape[1]\n",
    "    plot_output_x = np.concatenate([plot_input_x[-1:], plot_output_x])\n",
    "    plot_output_y = np.concatenate([plot_input_y[-1:], y_scenario.reshape(-1)])\n",
    "    plt.plot(plot_output_x, plot_output_y, label=\"Output Scenario\")\n",
    "\n",
    "\n",
    "    plot_output_y = np.concatenate([plot_input_y[-1:], y_sim.reshape(-1)])\n",
    "    plt.plot(plot_output_x, plot_output_y, label=\"Output Simulation\")\n",
    "\n",
    "    plt.ylabel(\"New Cases\")\n",
    "    plt.xlabel(\"Days\")\n",
    "    ax = plt.gca()\n",
    "    plt.text(0.3, 0.5, f\"$MAE={mae_error:.2f}$\", transform=ax.transAxes)\n",
    "    plt.legend()\n",
    "    plt.show()"
   ]
  },
  {
   "cell_type": "code",
   "execution_count": 49,
   "metadata": {
    "ExecuteTime": {
     "end_time": "2020-12-15T09:11:36.430613Z",
     "start_time": "2020-12-15T09:11:36.013063Z"
    }
   },
   "outputs": [
    {
     "data": {
      "application/vnd.jupyter.widget-view+json": {
       "model_id": "f1f902695b7f4843943027adb5d72975",
       "version_major": 2,
       "version_minor": 0
      },
      "text/plain": [
       "interactive(children=(Dropdown(description='GeoID:', index=87, options=('Afghanistan__nan', 'Albania__nan', 'A…"
      ]
     },
     "metadata": {},
     "output_type": "display_data"
    },
    {
     "data": {
      "text/plain": [
       "<function __main__.interactive_scenario(geo_id)>"
      ]
     },
     "execution_count": 49,
     "metadata": {},
     "output_type": "execute_result"
    }
   ],
   "source": [
    "def interactive_scenario(geo_id):\n",
    "    nb_future_days=30\n",
    "\n",
    "    X_scenario , y_scenario = generate_scenario(df_train, df_test, geo_id, nb_lookback_days=nb_lookback_days,\n",
    "        nb_future_days=nb_future_days, sequence_format=sequence_format)\n",
    "\n",
    "    y_sim = simulate_scenario(X_scenario, y_scenario)\n",
    "\n",
    "    viz_scenario(geo_id, X_scenario, y_scenario, y_sim)\n",
    "    \n",
    "geo_ids = sorted(df.GeoID.unique())\n",
    "\n",
    "w_geo_id = widgets.Dropdown(\n",
    "    options=geo_ids,\n",
    "    value='France__nan',\n",
    "    description='GeoID:',\n",
    "    disabled=False\n",
    ")\n",
    "\n",
    "interact(interactive_scenario, geo_id=w_geo_id)"
   ]
  },
  {
   "cell_type": "code",
   "execution_count": null,
   "metadata": {},
   "outputs": [],
   "source": []
  }
 ],
 "metadata": {
  "kernelspec": {
   "display_name": "Python 3",
   "language": "python",
   "name": "python3"
  },
  "language_info": {
   "codemirror_mode": {
    "name": "ipython",
    "version": 3
   },
   "file_extension": ".py",
   "mimetype": "text/x-python",
   "name": "python",
   "nbconvert_exporter": "python",
   "pygments_lexer": "ipython3",
   "version": "3.7.9"
  },
  "toc": {
   "base_numbering": 1,
   "nav_menu": {},
   "number_sections": true,
   "sideBar": true,
   "skip_h1_title": false,
   "title_cell": "Table of Contents",
   "title_sidebar": "Contents",
   "toc_cell": false,
   "toc_position": {},
   "toc_section_display": true,
   "toc_window_display": false
  }
 },
 "nbformat": 4,
 "nbformat_minor": 4
}
