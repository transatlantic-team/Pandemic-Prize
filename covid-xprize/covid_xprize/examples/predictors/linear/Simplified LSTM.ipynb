{
 "cells": [
  {
   "cell_type": "code",
   "execution_count": 1,
   "metadata": {
    "ExecuteTime": {
     "end_time": "2020-12-15T09:27:00.425127Z",
     "start_time": "2020-12-15T09:27:00.339307Z"
    }
   },
   "outputs": [],
   "source": [
    "%load_ext autoreload\n",
    "%autoreload 2"
   ]
  },
  {
   "cell_type": "code",
   "execution_count": 2,
   "metadata": {
    "ExecuteTime": {
     "end_time": "2020-12-15T09:27:01.198133Z",
     "start_time": "2020-12-15T09:27:00.608729Z"
    }
   },
   "outputs": [],
   "source": [
    "%matplotlib inline\n",
    "import matplotlib as mpl\n",
    "import matplotlib.pyplot as plt\n",
    "mpl.rcParams['figure.dpi']= 150"
   ]
  },
  {
   "cell_type": "code",
   "execution_count": 3,
   "metadata": {
    "ExecuteTime": {
     "end_time": "2020-12-15T11:33:33.326870Z",
     "start_time": "2020-12-15T11:33:33.246743Z"
    }
   },
   "outputs": [],
   "source": [
    "import numpy as np\n",
    "import pandas as pd\n",
    "\n",
    "import ipywidgets as widgets\n",
    "from ipywidgets import interact, fixed\n",
    "\n",
    "\n",
    "# Data\n",
    "# from transat.data import HYPOTHETICAL_SUBMISSION_DATE\n",
    "from transat.data.load import download_historical, load_historical\n",
    "from transat.data.split import split_historical\n",
    "from transat.data.transform import preprocess_historical_basic, dataframe_to_array\n",
    "\n",
    "# Metric\n",
    "from transat.metric import mae\n",
    "\n",
    "# Scenario/Simulation\n",
    "from transat.data.scenario import generate_scenario"
   ]
  },
  {
   "cell_type": "code",
   "execution_count": 4,
   "metadata": {},
   "outputs": [
    {
     "data": {
      "text/plain": [
       "[PhysicalDevice(name='/physical_device:GPU:0', device_type='GPU')]"
      ]
     },
     "execution_count": 4,
     "metadata": {},
     "output_type": "execute_result"
    }
   ],
   "source": [
    "import tensorflow as tf\n",
    "tf.config.list_physical_devices('GPU')"
   ]
  },
  {
   "cell_type": "code",
   "execution_count": 5,
   "metadata": {},
   "outputs": [],
   "source": [
    "HYPOTHETICAL_SUBMISSION_DATE = np.datetime64(\"2020-09-30\")"
   ]
  },
  {
   "cell_type": "code",
   "execution_count": 6,
   "metadata": {},
   "outputs": [
    {
     "name": "stdout",
     "output_type": "stream",
     "text": [
      "Downloaded Our World In Data Coronavirus data to \n",
      "\tdata/owid_2020-12-16.csv\n"
     ]
    }
   ],
   "source": [
    "def download_csv(url, path, prefix):\n",
    "    \"\"\"\n",
    "    Downloads a CSV from 'url', saves it to 'path' folder with filename 'prefix'_DD-MM-YYYY formatted at today's date\n",
    "    \"\"\"\n",
    "    import requests\n",
    "    import os\n",
    "    import datetime\n",
    "    response = requests.get(url, allow_redirects=True)\n",
    "    today = str(datetime.date.today())\n",
    "    os.makedirs(path, exist_ok=True)\n",
    "    filepath = f'{path}/{prefix}_{today}.csv'\n",
    "    open(filepath, 'wb').write(response.content)\n",
    "    return filepath\n",
    "\n",
    "def update_owid(path):\n",
    "    \"\"\"\n",
    "    Updates Our World In Data database and saves it to 'path' folder. Renames it to owid_DD-MM-YYYY with today's date\n",
    "    \"\"\"\n",
    "    filepath = download_csv('https://covid.ourworldindata.org/data/owid-covid-data.csv', path, 'owid')\n",
    "    print(f'Downloaded Our World In Data Coronavirus data to \\n\\t{filepath}')\n",
    "    return filepath\n",
    "\n",
    "# Create a \"owid-data\"\n",
    "owid_filepath = update_owid(\"data\")"
   ]
  },
  {
   "cell_type": "code",
   "execution_count": 7,
   "metadata": {},
   "outputs": [],
   "source": [
    "df_owid = pd.read_csv(owid_filepath)\n",
    "\n",
    "subdf = df_owid[[\"iso_code\", \"population\"]]\n",
    "subdf = subdf.drop_duplicates()\n",
    "\n",
    "countryCode_2_population = {iso:pop for iso,pop in zip(subdf.iso_code, subdf.population)}"
   ]
  },
  {
   "cell_type": "code",
   "execution_count": 6,
   "metadata": {
    "ExecuteTime": {
     "end_time": "2020-12-15T11:33:35.500547Z",
     "start_time": "2020-12-15T11:33:33.870378Z"
    }
   },
   "outputs": [],
   "source": [
    "download_historical()\n",
    "df = load_historical()"
   ]
  },
  {
   "cell_type": "code",
   "execution_count": 7,
   "metadata": {
    "ExecuteTime": {
     "end_time": "2020-12-15T11:33:36.024459Z",
     "start_time": "2020-12-15T11:33:35.502737Z"
    }
   },
   "outputs": [],
   "source": [
    "df = preprocess_historical_basic(df)"
   ]
  },
  {
   "cell_type": "code",
   "execution_count": 8,
   "metadata": {
    "ExecuteTime": {
     "end_time": "2020-12-15T11:33:36.092672Z",
     "start_time": "2020-12-15T11:33:36.027040Z"
    }
   },
   "outputs": [
    {
     "name": "stdout",
     "output_type": "stream",
     "text": [
      "Spliting at :  2020-09-30\n"
     ]
    }
   ],
   "source": [
    "print(\"Spliting at : \", HYPOTHETICAL_SUBMISSION_DATE)\n",
    "df_train, df_test = split_historical(df, HYPOTHETICAL_SUBMISSION_DATE)"
   ]
  },
  {
   "cell_type": "code",
   "execution_count": 36,
   "metadata": {
    "ExecuteTime": {
     "end_time": "2020-12-15T11:33:38.892297Z",
     "start_time": "2020-12-15T11:33:36.094581Z"
    }
   },
   "outputs": [
    {
     "name": "stdout",
     "output_type": "stream",
     "text": [
      "X_train shape:  (67760, 30, 13)\n",
      "y_train shape:  (67760, 1, 1)\n",
      "\n",
      "X_test  shape:  (12600, 30, 13)\n",
      "y_test  shape:  (12600, 1, 1)\n"
     ]
    }
   ],
   "source": [
    "nb_lookback_days = 30\n",
    "nb_lookahead_days = 1\n",
    "sequence_format = True\n",
    "neg_npis = False\n",
    "\n",
    "(X_train, y_train), (X_cols, y_col) = dataframe_to_array(df_train, nb_lookback_days=nb_lookback_days, \n",
    "    nb_lookahead_days=nb_lookahead_days, sequence_format=sequence_format, neg_npis=neg_npis)\n",
    "(X_test, y_test), _ = dataframe_to_array(df_test, nb_lookback_days=nb_lookback_days,\n",
    "    nb_lookahead_days=nb_lookahead_days, sequence_format=sequence_format, neg_npis=neg_npis)\n",
    "\n",
    "# X_train, y_train = X_train.reshape(X_train.shape[0], -1), y_train.reshape(-1)\n",
    "# X_test, y_test = X_test.reshape(X_test.shape[0], -1), y_test.reshape(-1)\n",
    "\n",
    "print(\"X_train shape: \", np.shape(X_train))\n",
    "print(\"y_train shape: \", np.shape(y_train))\n",
    "print()\n",
    "print(\"X_test  shape: \", np.shape(X_test))\n",
    "print(\"y_test  shape: \", np.shape(y_test))"
   ]
  },
  {
   "cell_type": "code",
   "execution_count": 37,
   "metadata": {
    "ExecuteTime": {
     "end_time": "2020-12-15T11:54:15.049461Z",
     "start_time": "2020-12-15T11:52:12.204408Z"
    }
   },
   "outputs": [],
   "source": [
    "class LSTM:\n",
    "    \n",
    "    def fit(self, X, y, X_valid, y_valid, epochs=1, batch_size=32):\n",
    "        \n",
    "        # Build Model\n",
    "        if not(hasattr(self, \"model\")):\n",
    "            input_shape = X.shape[1:]\n",
    "            self.model = self.build_model(input_shape)\n",
    "            \n",
    "        # Pre-process data\n",
    "        self.fit_preprocess(X, y)\n",
    "        X, y = self.transform(X, y)\n",
    "        X_valid, y_valid = self.transform(X_valid, y_valid)\n",
    "        \n",
    "        # callbacks\n",
    "        \n",
    "        reduce_lr = tf.keras.callbacks.ReduceLROnPlateau(\n",
    "            monitor='val_loss', factor=0.8, patience=5, verbose=1,\n",
    "            mode='auto', min_delta=0.0001, cooldown=0, min_lr=0\n",
    "        )\n",
    "        \n",
    "        # Fit Model\n",
    "        history = self.model.fit(X, y, \n",
    "            epochs=epochs, \n",
    "            batch_size=batch_size,\n",
    "            validation_data=(X_valid, y_valid),\n",
    "            callbacks=[reduce_lr],\n",
    "            shuffle=False,\n",
    "        )\n",
    "        \n",
    "        return history\n",
    "        \n",
    "    def predict(self, X):\n",
    "        X = self.transform(X)\n",
    "        \n",
    "        y = self.model.predict(X).reshape(-1)\n",
    "        \n",
    "        # Inverse preprocessing\n",
    "#         y = y * self.std[0] + self.mean[0]\n",
    "        y = y * (self.max[0] - self.min[0]) + self.min[0]\n",
    "        \n",
    "        return y\n",
    "    \n",
    "    def fit_preprocess(self, X, y):\n",
    "        # MinMax (x - min) / (max - min)\n",
    "        self.min = X.reshape(-1, X.shape[-1]).min(axis=0)\n",
    "        self.max = X.reshape(-1, X.shape[-1]).max(axis=0)\n",
    "\n",
    "        # Normalization\n",
    "#         self.mean = X.reshape(-1, X.shape[-1]).mean(axis=0)\n",
    "#         self.std = X.reshape(-1, X.shape[-1]).std(axis=0)\n",
    "\n",
    "        \n",
    "    \n",
    "    \n",
    "    def transform(self, X, y=None):\n",
    "        X = (X - self.min) / (self.max - self.min)\n",
    "#         X = (X - self.mean) / self.std\n",
    "        if y is not None:\n",
    "            y = (y - self.min[0]) / (self.max[0] - self.min[0])\n",
    "#             y = (y - self.mean[0]) / self.std[0]\n",
    "            return X, y\n",
    "        else:\n",
    "            return X\n",
    "    \n",
    "    def build_model(self, input_shape):\n",
    "\n",
    "        input = tf.keras.Input(shape=input_shape, name='input')\n",
    "        x = tf.keras.layers.LSTM(64, return_sequences=True)(input)\n",
    "        x = tf.keras.layers.LSTM(64, return_sequences=False)(x)\n",
    "        x = tf.keras.layers.Dense(64, activation='relu')(x)\n",
    "        x = tf.keras.layers.Dense(64, activation='relu')(x)\n",
    "        output = tf.keras.layers.Dense(1, activation=None, name='output')(x)\n",
    "        model = tf.keras.Model(inputs=[input], outputs=[output])\n",
    "\n",
    "        model.compile(\n",
    "#             loss=tf.losses.MeanSquaredError(),\n",
    "            loss=tf.keras.losses.MeanAbsoluteError(),\n",
    "#             loss=tf.keras.losses.LogCosh(),\n",
    "            optimizer=tf.keras.optimizers.Adam(),\n",
    "            metrics=[tf.metrics.MeanAbsoluteError()]\n",
    "        )\n",
    "\n",
    "        return model\n",
    "    \n",
    "model = LSTM()"
   ]
  },
  {
   "cell_type": "code",
   "execution_count": 38,
   "metadata": {
    "ExecuteTime": {
     "end_time": "2020-12-15T12:39:13.385085Z",
     "start_time": "2020-12-15T12:35:15.836155Z"
    }
   },
   "outputs": [
    {
     "name": "stdout",
     "output_type": "stream",
     "text": [
      "Epoch 1/20\n",
      "2118/2118 [==============================] - 12s 6ms/step - loss: 0.0113 - mean_absolute_error: 0.0113 - val_loss: 0.0257 - val_mean_absolute_error: 0.0257 - lr: 0.0010\n",
      "Epoch 2/20\n",
      "2118/2118 [==============================] - 12s 6ms/step - loss: 0.0074 - mean_absolute_error: 0.0074 - val_loss: 0.0307 - val_mean_absolute_error: 0.0307 - lr: 0.0010\n",
      "Epoch 3/20\n",
      "2118/2118 [==============================] - 12s 5ms/step - loss: 0.0071 - mean_absolute_error: 0.0071 - val_loss: 0.0293 - val_mean_absolute_error: 0.0293 - lr: 0.0010\n",
      "Epoch 4/20\n",
      "2118/2118 [==============================] - 12s 5ms/step - loss: 0.0070 - mean_absolute_error: 0.0070 - val_loss: 0.0295 - val_mean_absolute_error: 0.0295 - lr: 0.0010\n",
      "Epoch 5/20\n",
      "2118/2118 [==============================] - 13s 6ms/step - loss: 0.0069 - mean_absolute_error: 0.0069 - val_loss: 0.0251 - val_mean_absolute_error: 0.0251 - lr: 0.0010\n",
      "Epoch 6/20\n",
      "2118/2118 [==============================] - 12s 5ms/step - loss: 0.0068 - mean_absolute_error: 0.0068 - val_loss: 0.0279 - val_mean_absolute_error: 0.0279 - lr: 0.0010\n",
      "Epoch 7/20\n",
      "2118/2118 [==============================] - 12s 5ms/step - loss: 0.0067 - mean_absolute_error: 0.0067 - val_loss: 0.0282 - val_mean_absolute_error: 0.0282 - lr: 0.0010\n",
      "Epoch 8/20\n",
      "2118/2118 [==============================] - 12s 5ms/step - loss: 0.0065 - mean_absolute_error: 0.0065 - val_loss: 0.0259 - val_mean_absolute_error: 0.0259 - lr: 0.0010\n",
      "Epoch 9/20\n",
      "2118/2118 [==============================] - 12s 5ms/step - loss: 0.0066 - mean_absolute_error: 0.0066 - val_loss: 0.0278 - val_mean_absolute_error: 0.0278 - lr: 0.0010\n",
      "Epoch 10/20\n",
      "2116/2118 [============================>.] - ETA: 0s - loss: 0.0065 - mean_absolute_error: 0.0065\n",
      "Epoch 00010: ReduceLROnPlateau reducing learning rate to 0.000800000037997961.\n",
      "2118/2118 [==============================] - 11s 5ms/step - loss: 0.0065 - mean_absolute_error: 0.0065 - val_loss: 0.0266 - val_mean_absolute_error: 0.0266 - lr: 0.0010\n",
      "Epoch 11/20\n",
      "2118/2118 [==============================] - 12s 5ms/step - loss: 0.0063 - mean_absolute_error: 0.0063 - val_loss: 0.0258 - val_mean_absolute_error: 0.0258 - lr: 8.0000e-04\n",
      "Epoch 12/20\n",
      "2118/2118 [==============================] - 12s 5ms/step - loss: 0.0063 - mean_absolute_error: 0.0063 - val_loss: 0.0258 - val_mean_absolute_error: 0.0258 - lr: 8.0000e-04\n",
      "Epoch 13/20\n",
      "2118/2118 [==============================] - 11s 5ms/step - loss: 0.0062 - mean_absolute_error: 0.0062 - val_loss: 0.0266 - val_mean_absolute_error: 0.0266 - lr: 8.0000e-04\n",
      "Epoch 14/20\n",
      "2118/2118 [==============================] - 11s 5ms/step - loss: 0.0063 - mean_absolute_error: 0.0063 - val_loss: 0.0254 - val_mean_absolute_error: 0.0254 - lr: 8.0000e-04\n",
      "Epoch 15/20\n",
      "2115/2118 [============================>.] - ETA: 0s - loss: 0.0063 - mean_absolute_error: 0.0063\n",
      "Epoch 00015: ReduceLROnPlateau reducing learning rate to 0.0006400000303983689.\n",
      "2118/2118 [==============================] - 11s 5ms/step - loss: 0.0063 - mean_absolute_error: 0.0063 - val_loss: 0.0263 - val_mean_absolute_error: 0.0263 - lr: 8.0000e-04\n",
      "Epoch 16/20\n",
      "2118/2118 [==============================] - 12s 5ms/step - loss: 0.0061 - mean_absolute_error: 0.0061 - val_loss: 0.0255 - val_mean_absolute_error: 0.0255 - lr: 6.4000e-04\n",
      "Epoch 17/20\n",
      "2118/2118 [==============================] - 11s 5ms/step - loss: 0.0061 - mean_absolute_error: 0.0061 - val_loss: 0.0259 - val_mean_absolute_error: 0.0259 - lr: 6.4000e-04\n",
      "Epoch 18/20\n",
      "2118/2118 [==============================] - 12s 6ms/step - loss: 0.0061 - mean_absolute_error: 0.0061 - val_loss: 0.0260 - val_mean_absolute_error: 0.0260 - lr: 6.4000e-04\n",
      "Epoch 19/20\n",
      "2118/2118 [==============================] - 12s 6ms/step - loss: 0.0061 - mean_absolute_error: 0.0061 - val_loss: 0.0254 - val_mean_absolute_error: 0.0254 - lr: 6.4000e-04\n",
      "Epoch 20/20\n",
      "2113/2118 [============================>.] - ETA: 0s - loss: 0.0061 - mean_absolute_error: 0.0061\n",
      "Epoch 00020: ReduceLROnPlateau reducing learning rate to 0.0005120000336319208.\n",
      "2118/2118 [==============================] - 11s 5ms/step - loss: 0.0061 - mean_absolute_error: 0.0061 - val_loss: 0.0259 - val_mean_absolute_error: 0.0259 - lr: 6.4000e-04\n"
     ]
    }
   ],
   "source": [
    "hist = model.fit(X_train, y_train, X_test, y_test, epochs=20)"
   ]
  },
  {
   "cell_type": "code",
   "execution_count": 27,
   "metadata": {},
   "outputs": [
    {
     "data": {
      "image/png": "[encoded data removed]",
      "text/plain": [
       "<Figure size 900x600 with 1 Axes>"
      ]
     },
     "metadata": {
      "needs_background": "light"
     },
     "output_type": "display_data"
    }
   ],
   "source": [
    "hist = hist.history\n",
    "\n",
    "plt.figure()\n",
    "# # plt.subplot(1,2,1)\n",
    "# plt.ylabel(\"Test MAE\")\n",
    "\n",
    "# plt.plot(hists[\"no reduce_lr\"][\"val_loss\"], label=\"NO ReduceLR\")\n",
    "# plt.plot(hists[\"reduce_lr\"][\"val_loss\"], label=\"ReduceLR\")\n",
    "\n",
    "# plt.legend()\n",
    "\n",
    "# plt.subplot(1,2,2)\n",
    "plt.ylabel(\"Loss MSE\")\n",
    "plt.plot(hist[\"loss\"], label=\"loss\")\n",
    "plt.plot(hist[\"val_loss\"], label=\"val_loss\")\n",
    "plt.legend()\n",
    "\n",
    "plt.tight_layout()\n",
    "plt.show()"
   ]
  },
  {
   "cell_type": "code",
   "execution_count": 15,
   "metadata": {
    "ExecuteTime": {
     "end_time": "2020-12-15T12:41:08.596836Z",
     "start_time": "2020-12-15T12:39:46.884080Z"
    }
   },
   "outputs": [
    {
     "ename": "MemoryError",
     "evalue": "Unable to allocate 298. GiB for an array with shape (9520, 21, 199920) and data type float64",
     "output_type": "error",
     "traceback": [
      "\u001b[0;31m---------------------------------------------------------------------------\u001b[0m",
      "\u001b[0;31mMemoryError\u001b[0m                               Traceback (most recent call last)",
      "\u001b[0;32m<ipython-input-15-ce1433e32595>\u001b[0m in \u001b[0;36m<module>\u001b[0;34m\u001b[0m\n\u001b[1;32m     10\u001b[0m \u001b[0mtest_preds\u001b[0m \u001b[0;34m=\u001b[0m \u001b[0mmodel\u001b[0m\u001b[0;34m.\u001b[0m\u001b[0mpredict\u001b[0m\u001b[0;34m(\u001b[0m\u001b[0mX_test\u001b[0m\u001b[0;34m)\u001b[0m\u001b[0;34m\u001b[0m\u001b[0;34m\u001b[0m\u001b[0m\n\u001b[1;32m     11\u001b[0m \u001b[0mtest_preds\u001b[0m \u001b[0;34m=\u001b[0m \u001b[0mnp\u001b[0m\u001b[0;34m.\u001b[0m\u001b[0mmaximum\u001b[0m\u001b[0;34m(\u001b[0m\u001b[0mtest_preds\u001b[0m\u001b[0;34m,\u001b[0m \u001b[0;36m0\u001b[0m\u001b[0;34m)\u001b[0m \u001b[0;31m# Don't predict negative cases\u001b[0m\u001b[0;34m\u001b[0m\u001b[0;34m\u001b[0m\u001b[0m\n\u001b[0;32m---> 12\u001b[0;31m \u001b[0mprint\u001b[0m\u001b[0;34m(\u001b[0m\u001b[0;34m'Test MAE:'\u001b[0m\u001b[0;34m,\u001b[0m \u001b[0mmae\u001b[0m\u001b[0;34m(\u001b[0m\u001b[0mtest_preds\u001b[0m\u001b[0;34m,\u001b[0m \u001b[0my_test\u001b[0m\u001b[0;34m)\u001b[0m\u001b[0;34m)\u001b[0m\u001b[0;34m\u001b[0m\u001b[0;34m\u001b[0m\u001b[0m\n\u001b[0m",
      "\u001b[0;32m~/xprize/Pandemic-Prize/transat/metric.py\u001b[0m in \u001b[0;36mmae\u001b[0;34m(pred, true)\u001b[0m\n\u001b[1;32m      6\u001b[0m     \u001b[0;34m>>\u001b[0m\u001b[0;34m>\u001b[0m \u001b[0;32mfrom\u001b[0m \u001b[0mtransat\u001b[0m\u001b[0;34m.\u001b[0m\u001b[0mmetric\u001b[0m \u001b[0;32mimport\u001b[0m \u001b[0mmae\u001b[0m\u001b[0;34m\u001b[0m\u001b[0;34m\u001b[0m\u001b[0m\n\u001b[1;32m      7\u001b[0m     \"\"\"\n\u001b[0;32m----> 8\u001b[0;31m     \u001b[0;32mreturn\u001b[0m \u001b[0mnp\u001b[0m\u001b[0;34m.\u001b[0m\u001b[0mmean\u001b[0m\u001b[0;34m(\u001b[0m\u001b[0mnp\u001b[0m\u001b[0;34m.\u001b[0m\u001b[0mabs\u001b[0m\u001b[0;34m(\u001b[0m\u001b[0mnp\u001b[0m\u001b[0;34m.\u001b[0m\u001b[0marray\u001b[0m\u001b[0;34m(\u001b[0m\u001b[0mpred\u001b[0m\u001b[0;34m)\u001b[0m \u001b[0;34m-\u001b[0m \u001b[0mnp\u001b[0m\u001b[0;34m.\u001b[0m\u001b[0marray\u001b[0m\u001b[0;34m(\u001b[0m\u001b[0mtrue\u001b[0m\u001b[0;34m)\u001b[0m\u001b[0;34m)\u001b[0m\u001b[0;34m)\u001b[0m\u001b[0;34m\u001b[0m\u001b[0;34m\u001b[0m\u001b[0m\n\u001b[0m",
      "\u001b[0;31mMemoryError\u001b[0m: Unable to allocate 298. GiB for an array with shape (9520, 21, 199920) and data type float64"
     ]
    }
   ],
   "source": [
    "# Evaluate model\n",
    "# train_preds = model.predict(X_train)\n",
    "# train_preds = np.maximum(train_preds, 0) # Don't predict negative cases\n",
    "# print('Train MAE:', mae(train_preds, y_train))\n",
    "\n",
    "# valid_preds = model.predict(X_valid)\n",
    "# valid_preds = np.maximum(valid_preds, 0) # Don't predict negative cases\n",
    "# print('Valid MAE:', mae(valid_preds, y_valid))\n",
    "\n",
    "test_preds = model.predict(X_test)\n",
    "test_preds = np.maximum(test_preds, 0) # Don't predict negative cases\n",
    "print('Test MAE:', mae(test_preds, y_test))"
   ]
  },
  {
   "cell_type": "code",
   "execution_count": 39,
   "metadata": {
    "ExecuteTime": {
     "end_time": "2020-12-15T10:15:32.556132Z",
     "start_time": "2020-12-15T10:15:32.427940Z"
    }
   },
   "outputs": [],
   "source": [
    "def simulate_scenario(model, X_scenario, y_scenario, seq=False):\n",
    "    # Simulate scenario\n",
    "\n",
    "    X_sim = X_scenario.copy()\n",
    "    X_sim_cases = X_sim[:,:,:1]\n",
    "    X_sim_npis = X_sim[:,:,1:]\n",
    "    y_sim = np.zeros(np.shape(y_scenario))\n",
    "\n",
    "    nb_lookback_days = X_sim.shape[1]\n",
    "\n",
    "    for d in range(y_sim.shape[1]):\n",
    "        \n",
    "        if seq:\n",
    "            y = model.predict(X_sim)\n",
    "        else:\n",
    "            y = model.predict(X_sim.reshape(1,-1))\n",
    "        y_sim[0,d,0] = max(y[0], 0)\n",
    "\n",
    "        # Assuming constant NPIs here\n",
    "        X_sim_npis = np.concatenate([X_sim_npis[:,1:], X_sim_npis[:,-1:]], axis=1)\n",
    "        X_sim_cases = np.concatenate([X_sim_cases[:,1:], y.reshape(-1, 1, 1)], axis=1)\n",
    "\n",
    "        X_sim =  np.concatenate([X_sim_cases, X_sim_npis], axis=-1)\n",
    "        X_sim = np.array(X_sim)\n",
    "    \n",
    "    return y_sim"
   ]
  },
  {
   "cell_type": "code",
   "execution_count": 40,
   "metadata": {},
   "outputs": [],
   "source": [
    "# def simulate_scenario(model, X_scenario, y_scenario, seq=False):\n",
    "#     # Simulate scenario\n",
    "\n",
    "#     X_sim = X_scenario.copy()\n",
    "#     X_sim_cases = X_sim[:,:,:1]\n",
    "#     X_sim_npis = X_sim[:,:,1:]\n",
    "#     y_sim = np.zeros(np.shape(y_scenario))\n",
    "\n",
    "#     nb_lookback_days = X_sim.shape[1]\n",
    "    \n",
    "#     y_sim = model.predict(X_sim)\n",
    "    \n",
    "#     return y_sim"
   ]
  },
  {
   "cell_type": "code",
   "execution_count": 41,
   "metadata": {
    "ExecuteTime": {
     "end_time": "2020-12-15T10:15:33.595552Z",
     "start_time": "2020-12-15T10:15:33.541287Z"
    }
   },
   "outputs": [],
   "source": [
    "def viz_scenario(geo_id, X_scenario, y_scenario, y_sim):\n",
    "    mae_error = mae(y_scenario, y_sim)\n",
    "\n",
    "    plt.figure()\n",
    "    plt.title(geo_id)\n",
    "\n",
    "    plot_input_x = np.arange(X_scenario.shape[1])\n",
    "    plot_input_y = X_scenario[:,:,:1].reshape(-1)\n",
    "\n",
    "    plt.plot(plot_input_x, plot_input_y, label=\"Input Scenario\")\n",
    "\n",
    "    plot_output_x = np.arange(y_scenario.shape[1])+X_scenario.shape[1]\n",
    "    plot_output_x = np.concatenate([plot_input_x[-1:], plot_output_x])\n",
    "    plot_output_y = np.concatenate([plot_input_y[-1:], y_scenario.reshape(-1)])\n",
    "    plt.plot(plot_output_x, plot_output_y, label=\"Output Scenario\")\n",
    "\n",
    "\n",
    "    plot_output_y = np.concatenate([plot_input_y[-1:], y_sim.reshape(-1)])\n",
    "    plt.plot(plot_output_x, plot_output_y, label=\"Output Simulation\")\n",
    "\n",
    "    plt.ylabel(\"New Cases\")\n",
    "    plt.xlabel(\"Days\")\n",
    "    ax = plt.gca()\n",
    "    plt.text(0.3, 0.5, f\"$MAE={mae_error:.2f}$\", transform=ax.transAxes)\n",
    "    plt.legend()\n",
    "    plt.show()"
   ]
  },
  {
   "cell_type": "code",
   "execution_count": 42,
   "metadata": {
    "ExecuteTime": {
     "end_time": "2020-12-15T12:06:06.995597Z",
     "start_time": "2020-12-15T12:06:05.441497Z"
    }
   },
   "outputs": [
    {
     "data": {
      "application/vnd.jupyter.widget-view+json": {
       "model_id": "92a5a5def16245f7b05854ab3612bcb2",
       "version_major": 2,
       "version_minor": 0
      },
      "text/plain": [
       "interactive(children=(Dropdown(description='GeoID:', index=100, options=('Afghanistan__nan', 'Albania__nan', '…"
      ]
     },
     "metadata": {},
     "output_type": "display_data"
    },
    {
     "data": {
      "text/plain": [
       "<function __main__.interactive_scenario(geo_id, model, seq=True)>"
      ]
     },
     "execution_count": 42,
     "metadata": {},
     "output_type": "execute_result"
    }
   ],
   "source": [
    "def interactive_scenario(geo_id, model, seq=True):\n",
    "    nb_future_days=21\n",
    "\n",
    "    X_scenario , y_scenario = generate_scenario(df_train, df_test, geo_id, nb_lookback_days=nb_lookback_days,\n",
    "        nb_future_days=nb_future_days, sequence_format=sequence_format)\n",
    "\n",
    "    y_sim = simulate_scenario(model, X_scenario, y_scenario, seq=seq)\n",
    "\n",
    "    viz_scenario(geo_id, X_scenario, y_scenario, y_sim)\n",
    "    \n",
    "geo_ids = sorted(df.GeoID.unique())\n",
    "\n",
    "w_geo_id = widgets.Dropdown(\n",
    "    options=geo_ids,\n",
    "    value='France__nan',\n",
    "    description='GeoID:',\n",
    "    disabled=False\n",
    ")\n",
    "\n",
    "interact(interactive_scenario, geo_id=w_geo_id, model=fixed(model), seq=fixed(True))"
   ]
  },
  {
   "cell_type": "code",
   "execution_count": null,
   "metadata": {},
   "outputs": [],
   "source": []
  }
 ],
 "metadata": {
  "kernelspec": {
   "display_name": "Python 3",
   "language": "python",
   "name": "python3"
  },
  "language_info": {
   "codemirror_mode": {
    "name": "ipython",
    "version": 3
   },
   "file_extension": ".py",
   "mimetype": "text/x-python",
   "name": "python",
   "nbconvert_exporter": "python",
   "pygments_lexer": "ipython3",
   "version": "3.7.9"
  },
  "toc": {
   "base_numbering": 1,
   "nav_menu": {},
   "number_sections": true,
   "sideBar": true,
   "skip_h1_title": false,
   "title_cell": "Table of Contents",
   "title_sidebar": "Contents",
   "toc_cell": false,
   "toc_position": {},
   "toc_section_display": true,
   "toc_window_display": false
  }
 },
 "nbformat": 4,
 "nbformat_minor": 4
}
