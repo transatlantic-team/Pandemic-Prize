{
 "cells": [
  {
   "cell_type": "raw",
   "metadata": {},
   "source": [
    "# Copyright 2020 (c) Cognizant Digital Business, Evolutionary AI. All rights reserved. Issued under the Apache 2.0 License."
   ]
  },
  {
   "cell_type": "code",
   "execution_count": 5,
   "metadata": {
    "ExecuteTime": {
     "end_time": "2020-12-09T15:39:58.831723Z",
     "start_time": "2020-12-09T15:39:58.107536Z"
    }
   },
   "outputs": [],
   "source": [
    "import os\n",
    "import pandas as pd\n",
    "import requests"
   ]
  },
  {
   "cell_type": "markdown",
   "metadata": {},
   "source": [
    "# Goal\n",
    "Predict the daily number of cases for the given countries, regions and intervention plan.\n",
    "\n",
    "This model is described in [From Prediction to Prescription: Evolutionary Optimization of Non-Pharmaceutical Interventions in the COVID-19 Pandemic](https://arxiv.org/abs/2005.13766) in Section 5 - Data-Driven Predictive Model.\n",
    "\n",
    "Predictions from this model trained on the latest data are visible here: [How AI Makes Intervention Recommendations](https://evolution.ml/demos/npidashboard/). For more information see [Augmenting Human Decision Making\n",
    "Optimizing COVID-19 Interventions](https://evolution.ml/esp/npi/)."
   ]
  },
  {
   "cell_type": "markdown",
   "metadata": {},
   "source": [
    "## Intervention plan\n",
    "An intervention plan consists in a list of containment and closure policies, as well as health system policies. See https://github.com/OxCGRT/covid-policy-tracker/blob/master/documentation/codebook.md for more details. The following policies are considered:"
   ]
  },
  {
   "cell_type": "code",
   "execution_count": 6,
   "metadata": {
    "ExecuteTime": {
     "end_time": "2020-12-09T15:39:59.264009Z",
     "start_time": "2020-12-09T15:39:59.260475Z"
    }
   },
   "outputs": [],
   "source": [
    "NPI_COLUMNS = ['C1_School closing',\n",
    "               'C2_Workplace closing',\n",
    "               'C3_Cancel public events',\n",
    "               'C4_Restrictions on gatherings',\n",
    "               'C5_Close public transport',\n",
    "               'C6_Stay at home requirements',\n",
    "               'C7_Restrictions on internal movement',\n",
    "               'C8_International travel controls',\n",
    "               'H1_Public information campaigns',\n",
    "               'H2_Testing policy',\n",
    "               'H3_Contact tracing',\n",
    "               'H6_Facial Coverings']"
   ]
  },
  {
   "cell_type": "markdown",
   "metadata": {},
   "source": [
    "## Example\n",
    "For the given input, provide a model that can produce the expected output"
   ]
  },
  {
   "cell_type": "markdown",
   "metadata": {},
   "source": [
    "### Given input\n",
    "One row represents a country, region and day. For each row, the interventions that were in place on this day for this region and country are provided. Interventions can change from one day to the other for each country and region."
   ]
  },
  {
   "cell_type": "code",
   "execution_count": 7,
   "metadata": {
    "ExecuteTime": {
     "end_time": "2020-12-09T15:40:00.427113Z",
     "start_time": "2020-12-09T15:40:00.424431Z"
    }
   },
   "outputs": [],
   "source": [
    "EXAMPLE_INPUT_FILE = \"../../../validation/data/2020-09-30_historical_ip.csv\""
   ]
  },
  {
   "cell_type": "code",
   "execution_count": 8,
   "metadata": {
    "ExecuteTime": {
     "end_time": "2020-12-09T15:40:00.991183Z",
     "start_time": "2020-12-09T15:40:00.841058Z"
    }
   },
   "outputs": [],
   "source": [
    "prediction_input_df = pd.read_csv(EXAMPLE_INPUT_FILE,\n",
    "                                  parse_dates=['Date'],\n",
    "                                  dtype={\"RegionName\": str},\n",
    "                                  encoding=\"ISO-8859-1\")"
   ]
  },
  {
   "cell_type": "code",
   "execution_count": 9,
   "metadata": {
    "ExecuteTime": {
     "end_time": "2020-12-09T15:40:01.255532Z",
     "start_time": "2020-12-09T15:40:01.224555Z"
    }
   },
   "outputs": [
    {
     "data": {
      "text/html": [
       "<div>\n",
       "<style scoped>\n",
       "    .dataframe tbody tr th:only-of-type {\n",
       "        vertical-align: middle;\n",
       "    }\n",
       "\n",
       "    .dataframe tbody tr th {\n",
       "        vertical-align: top;\n",
       "    }\n",
       "\n",
       "    .dataframe thead th {\n",
       "        text-align: right;\n",
       "    }\n",
       "</style>\n",
       "<table border=\"1\" class=\"dataframe\">\n",
       "  <thead>\n",
       "    <tr style=\"text-align: right;\">\n",
       "      <th></th>\n",
       "      <th>CountryName</th>\n",
       "      <th>RegionName</th>\n",
       "      <th>Date</th>\n",
       "      <th>C1_School closing</th>\n",
       "      <th>C2_Workplace closing</th>\n",
       "      <th>C3_Cancel public events</th>\n",
       "      <th>C4_Restrictions on gatherings</th>\n",
       "      <th>C5_Close public transport</th>\n",
       "      <th>C6_Stay at home requirements</th>\n",
       "      <th>C7_Restrictions on internal movement</th>\n",
       "      <th>C8_International travel controls</th>\n",
       "      <th>H1_Public information campaigns</th>\n",
       "      <th>H2_Testing policy</th>\n",
       "      <th>H3_Contact tracing</th>\n",
       "      <th>H6_Facial Coverings</th>\n",
       "    </tr>\n",
       "  </thead>\n",
       "  <tbody>\n",
       "    <tr>\n",
       "      <th>0</th>\n",
       "      <td>Aruba</td>\n",
       "      <td>NaN</td>\n",
       "      <td>2020-01-01</td>\n",
       "      <td>0.0</td>\n",
       "      <td>0.0</td>\n",
       "      <td>0.0</td>\n",
       "      <td>0.0</td>\n",
       "      <td>0.0</td>\n",
       "      <td>0.0</td>\n",
       "      <td>0.0</td>\n",
       "      <td>0.0</td>\n",
       "      <td>0.0</td>\n",
       "      <td>0.0</td>\n",
       "      <td>0.0</td>\n",
       "      <td>0.0</td>\n",
       "    </tr>\n",
       "    <tr>\n",
       "      <th>1</th>\n",
       "      <td>Aruba</td>\n",
       "      <td>NaN</td>\n",
       "      <td>2020-01-02</td>\n",
       "      <td>0.0</td>\n",
       "      <td>0.0</td>\n",
       "      <td>0.0</td>\n",
       "      <td>0.0</td>\n",
       "      <td>0.0</td>\n",
       "      <td>0.0</td>\n",
       "      <td>0.0</td>\n",
       "      <td>0.0</td>\n",
       "      <td>0.0</td>\n",
       "      <td>0.0</td>\n",
       "      <td>0.0</td>\n",
       "      <td>0.0</td>\n",
       "    </tr>\n",
       "    <tr>\n",
       "      <th>2</th>\n",
       "      <td>Aruba</td>\n",
       "      <td>NaN</td>\n",
       "      <td>2020-01-03</td>\n",
       "      <td>0.0</td>\n",
       "      <td>0.0</td>\n",
       "      <td>0.0</td>\n",
       "      <td>0.0</td>\n",
       "      <td>0.0</td>\n",
       "      <td>0.0</td>\n",
       "      <td>0.0</td>\n",
       "      <td>0.0</td>\n",
       "      <td>0.0</td>\n",
       "      <td>0.0</td>\n",
       "      <td>0.0</td>\n",
       "      <td>0.0</td>\n",
       "    </tr>\n",
       "    <tr>\n",
       "      <th>3</th>\n",
       "      <td>Aruba</td>\n",
       "      <td>NaN</td>\n",
       "      <td>2020-01-04</td>\n",
       "      <td>0.0</td>\n",
       "      <td>0.0</td>\n",
       "      <td>0.0</td>\n",
       "      <td>0.0</td>\n",
       "      <td>0.0</td>\n",
       "      <td>0.0</td>\n",
       "      <td>0.0</td>\n",
       "      <td>0.0</td>\n",
       "      <td>0.0</td>\n",
       "      <td>0.0</td>\n",
       "      <td>0.0</td>\n",
       "      <td>0.0</td>\n",
       "    </tr>\n",
       "    <tr>\n",
       "      <th>4</th>\n",
       "      <td>Aruba</td>\n",
       "      <td>NaN</td>\n",
       "      <td>2020-01-05</td>\n",
       "      <td>0.0</td>\n",
       "      <td>0.0</td>\n",
       "      <td>0.0</td>\n",
       "      <td>0.0</td>\n",
       "      <td>0.0</td>\n",
       "      <td>0.0</td>\n",
       "      <td>0.0</td>\n",
       "      <td>0.0</td>\n",
       "      <td>0.0</td>\n",
       "      <td>0.0</td>\n",
       "      <td>0.0</td>\n",
       "      <td>0.0</td>\n",
       "    </tr>\n",
       "  </tbody>\n",
       "</table>\n",
       "</div>"
      ],
      "text/plain": [
       "  CountryName RegionName       Date  C1_School closing  C2_Workplace closing  \\\n",
       "0       Aruba        NaN 2020-01-01                0.0                   0.0   \n",
       "1       Aruba        NaN 2020-01-02                0.0                   0.0   \n",
       "2       Aruba        NaN 2020-01-03                0.0                   0.0   \n",
       "3       Aruba        NaN 2020-01-04                0.0                   0.0   \n",
       "4       Aruba        NaN 2020-01-05                0.0                   0.0   \n",
       "\n",
       "   C3_Cancel public events  C4_Restrictions on gatherings  \\\n",
       "0                      0.0                            0.0   \n",
       "1                      0.0                            0.0   \n",
       "2                      0.0                            0.0   \n",
       "3                      0.0                            0.0   \n",
       "4                      0.0                            0.0   \n",
       "\n",
       "   C5_Close public transport  C6_Stay at home requirements  \\\n",
       "0                        0.0                           0.0   \n",
       "1                        0.0                           0.0   \n",
       "2                        0.0                           0.0   \n",
       "3                        0.0                           0.0   \n",
       "4                        0.0                           0.0   \n",
       "\n",
       "   C7_Restrictions on internal movement  C8_International travel controls  \\\n",
       "0                                   0.0                               0.0   \n",
       "1                                   0.0                               0.0   \n",
       "2                                   0.0                               0.0   \n",
       "3                                   0.0                               0.0   \n",
       "4                                   0.0                               0.0   \n",
       "\n",
       "   H1_Public information campaigns  H2_Testing policy  H3_Contact tracing  \\\n",
       "0                              0.0                0.0                 0.0   \n",
       "1                              0.0                0.0                 0.0   \n",
       "2                              0.0                0.0                 0.0   \n",
       "3                              0.0                0.0                 0.0   \n",
       "4                              0.0                0.0                 0.0   \n",
       "\n",
       "   H6_Facial Coverings  \n",
       "0                  0.0  \n",
       "1                  0.0  \n",
       "2                  0.0  \n",
       "3                  0.0  \n",
       "4                  0.0  "
      ]
     },
     "execution_count": 9,
     "metadata": {},
     "output_type": "execute_result"
    }
   ],
   "source": [
    "prediction_input_df.head()"
   ]
  },
  {
   "cell_type": "markdown",
   "metadata": {},
   "source": [
    "### Expected output\n",
    "For each row that was provided in input, i.e. for each country, region and day, the output should contain an additional `PredictedDailyNewCases` column with the predicted number of cases for that day, region and country. It is possible to leave `PredictedDailyNewCases` empty or NaN, or to remove the row, in case no predition is available."
   ]
  },
  {
   "cell_type": "code",
   "execution_count": 10,
   "metadata": {
    "ExecuteTime": {
     "end_time": "2020-12-09T15:40:02.081297Z",
     "start_time": "2020-12-09T15:40:02.078746Z"
    }
   },
   "outputs": [],
   "source": [
    "EXAMPLE_OUTPUT_FILE = \"../../../../2020-08-01_2020-08-04_predictions_example.csv\""
   ]
  },
  {
   "cell_type": "code",
   "execution_count": 11,
   "metadata": {
    "ExecuteTime": {
     "end_time": "2020-12-09T15:40:02.565022Z",
     "start_time": "2020-12-09T15:40:02.555540Z"
    }
   },
   "outputs": [],
   "source": [
    "prediction_output_df = pd.read_csv(EXAMPLE_OUTPUT_FILE,\n",
    "                                   parse_dates=['Date'],\n",
    "                                   encoding=\"ISO-8859-1\")"
   ]
  },
  {
   "cell_type": "code",
   "execution_count": 12,
   "metadata": {
    "ExecuteTime": {
     "end_time": "2020-12-09T15:40:02.956513Z",
     "start_time": "2020-12-09T15:40:02.946023Z"
    }
   },
   "outputs": [
    {
     "data": {
      "text/html": [
       "<div>\n",
       "<style scoped>\n",
       "    .dataframe tbody tr th:only-of-type {\n",
       "        vertical-align: middle;\n",
       "    }\n",
       "\n",
       "    .dataframe tbody tr th {\n",
       "        vertical-align: top;\n",
       "    }\n",
       "\n",
       "    .dataframe thead th {\n",
       "        text-align: right;\n",
       "    }\n",
       "</style>\n",
       "<table border=\"1\" class=\"dataframe\">\n",
       "  <thead>\n",
       "    <tr style=\"text-align: right;\">\n",
       "      <th></th>\n",
       "      <th>CountryName</th>\n",
       "      <th>RegionName</th>\n",
       "      <th>Date</th>\n",
       "      <th>PredictedDailyNewCases</th>\n",
       "      <th>IsSpecialty</th>\n",
       "    </tr>\n",
       "  </thead>\n",
       "  <tbody>\n",
       "    <tr>\n",
       "      <th>0</th>\n",
       "      <td>Aruba</td>\n",
       "      <td>NaN</td>\n",
       "      <td>2020-08-01</td>\n",
       "      <td>0.820071</td>\n",
       "      <td>0</td>\n",
       "    </tr>\n",
       "    <tr>\n",
       "      <th>1</th>\n",
       "      <td>Aruba</td>\n",
       "      <td>NaN</td>\n",
       "      <td>2020-08-02</td>\n",
       "      <td>0.872854</td>\n",
       "      <td>0</td>\n",
       "    </tr>\n",
       "    <tr>\n",
       "      <th>2</th>\n",
       "      <td>Aruba</td>\n",
       "      <td>NaN</td>\n",
       "      <td>2020-08-03</td>\n",
       "      <td>0.000000</td>\n",
       "      <td>0</td>\n",
       "    </tr>\n",
       "    <tr>\n",
       "      <th>3</th>\n",
       "      <td>Aruba</td>\n",
       "      <td>NaN</td>\n",
       "      <td>2020-08-04</td>\n",
       "      <td>0.000000</td>\n",
       "      <td>0</td>\n",
       "    </tr>\n",
       "    <tr>\n",
       "      <th>4</th>\n",
       "      <td>Afghanistan</td>\n",
       "      <td>NaN</td>\n",
       "      <td>2020-08-01</td>\n",
       "      <td>80.590128</td>\n",
       "      <td>0</td>\n",
       "    </tr>\n",
       "  </tbody>\n",
       "</table>\n",
       "</div>"
      ],
      "text/plain": [
       "   CountryName RegionName       Date  PredictedDailyNewCases  IsSpecialty\n",
       "0        Aruba        NaN 2020-08-01                0.820071            0\n",
       "1        Aruba        NaN 2020-08-02                0.872854            0\n",
       "2        Aruba        NaN 2020-08-03                0.000000            0\n",
       "3        Aruba        NaN 2020-08-04                0.000000            0\n",
       "4  Afghanistan        NaN 2020-08-01               80.590128            0"
      ]
     },
     "execution_count": 12,
     "metadata": {},
     "output_type": "execute_result"
    }
   ],
   "source": [
    "prediction_output_df.head()"
   ]
  },
  {
   "cell_type": "markdown",
   "metadata": {},
   "source": [
    "### Evaluation\n",
    "Predictions will be evaluated on a period of 4 weeks **after** submision against the actual daily change in confirmed cases reported by the [Oxford COVID-19 Government Response Tracker (OxCGRT)](https://www.bsg.ox.ac.uk/research/research-projects/coronavirus-government-response-tracker).\n",
    "\n",
    "The latest data, including the latest confirmed cases ('ConfirmedCases') can be find here: https://raw.githubusercontent.com/OxCGRT/covid-policy-tracker/master/data/OxCGRT_latest.csv"
   ]
  },
  {
   "cell_type": "code",
   "execution_count": 13,
   "metadata": {
    "ExecuteTime": {
     "end_time": "2020-12-09T15:40:06.662468Z",
     "start_time": "2020-12-09T15:40:04.129195Z"
    }
   },
   "outputs": [],
   "source": [
    "DATA_URL = 'https://raw.githubusercontent.com/OxCGRT/covid-policy-tracker/master/data/OxCGRT_latest.csv'\n",
    "df = pd.read_csv(DATA_URL,\n",
    "                 parse_dates=['Date'],\n",
    "                 encoding=\"ISO-8859-1\",\n",
    "                 dtype={\"RegionName\": str,\n",
    "                        \"RegionCode\": str},\n",
    "                 error_bad_lines=False)"
   ]
  },
  {
   "cell_type": "code",
   "execution_count": 14,
   "metadata": {
    "ExecuteTime": {
     "end_time": "2020-12-09T15:40:06.699186Z",
     "start_time": "2020-12-09T15:40:06.666078Z"
    }
   },
   "outputs": [
    {
     "data": {
      "text/html": [
       "<div>\n",
       "<style scoped>\n",
       "    .dataframe tbody tr th:only-of-type {\n",
       "        vertical-align: middle;\n",
       "    }\n",
       "\n",
       "    .dataframe tbody tr th {\n",
       "        vertical-align: top;\n",
       "    }\n",
       "\n",
       "    .dataframe thead th {\n",
       "        text-align: right;\n",
       "    }\n",
       "</style>\n",
       "<table border=\"1\" class=\"dataframe\">\n",
       "  <thead>\n",
       "    <tr style=\"text-align: right;\">\n",
       "      <th></th>\n",
       "      <th>CountryName</th>\n",
       "      <th>CountryCode</th>\n",
       "      <th>RegionName</th>\n",
       "      <th>RegionCode</th>\n",
       "      <th>Jurisdiction</th>\n",
       "      <th>Date</th>\n",
       "      <th>C1_School closing</th>\n",
       "      <th>C1_Flag</th>\n",
       "      <th>C2_Workplace closing</th>\n",
       "      <th>C2_Flag</th>\n",
       "      <th>...</th>\n",
       "      <th>StringencyIndex</th>\n",
       "      <th>StringencyIndexForDisplay</th>\n",
       "      <th>StringencyLegacyIndex</th>\n",
       "      <th>StringencyLegacyIndexForDisplay</th>\n",
       "      <th>GovernmentResponseIndex</th>\n",
       "      <th>GovernmentResponseIndexForDisplay</th>\n",
       "      <th>ContainmentHealthIndex</th>\n",
       "      <th>ContainmentHealthIndexForDisplay</th>\n",
       "      <th>EconomicSupportIndex</th>\n",
       "      <th>EconomicSupportIndexForDisplay</th>\n",
       "    </tr>\n",
       "  </thead>\n",
       "  <tbody>\n",
       "    <tr>\n",
       "      <th>82584</th>\n",
       "      <td>United States</td>\n",
       "      <td>USA</td>\n",
       "      <td>Idaho</td>\n",
       "      <td>US_ID</td>\n",
       "      <td>STATE_TOTAL</td>\n",
       "      <td>2020-08-12</td>\n",
       "      <td>3.0</td>\n",
       "      <td>0.0</td>\n",
       "      <td>2.0</td>\n",
       "      <td>0.0</td>\n",
       "      <td>...</td>\n",
       "      <td>58.80</td>\n",
       "      <td>58.80</td>\n",
       "      <td>63.81</td>\n",
       "      <td>63.81</td>\n",
       "      <td>50.56</td>\n",
       "      <td>50.56</td>\n",
       "      <td>52.56</td>\n",
       "      <td>52.56</td>\n",
       "      <td>37.5</td>\n",
       "      <td>37.5</td>\n",
       "    </tr>\n",
       "    <tr>\n",
       "      <th>26394</th>\n",
       "      <td>Cameroon</td>\n",
       "      <td>CMR</td>\n",
       "      <td>NaN</td>\n",
       "      <td>NaN</td>\n",
       "      <td>NAT_TOTAL</td>\n",
       "      <td>2020-05-04</td>\n",
       "      <td>3.0</td>\n",
       "      <td>1.0</td>\n",
       "      <td>0.0</td>\n",
       "      <td>NaN</td>\n",
       "      <td>...</td>\n",
       "      <td>63.89</td>\n",
       "      <td>63.89</td>\n",
       "      <td>76.19</td>\n",
       "      <td>76.19</td>\n",
       "      <td>51.11</td>\n",
       "      <td>51.11</td>\n",
       "      <td>58.97</td>\n",
       "      <td>58.97</td>\n",
       "      <td>0.0</td>\n",
       "      <td>0.0</td>\n",
       "    </tr>\n",
       "    <tr>\n",
       "      <th>96328</th>\n",
       "      <td>Uzbekistan</td>\n",
       "      <td>UZB</td>\n",
       "      <td>NaN</td>\n",
       "      <td>NaN</td>\n",
       "      <td>NAT_TOTAL</td>\n",
       "      <td>2020-05-03</td>\n",
       "      <td>3.0</td>\n",
       "      <td>1.0</td>\n",
       "      <td>3.0</td>\n",
       "      <td>1.0</td>\n",
       "      <td>...</td>\n",
       "      <td>96.30</td>\n",
       "      <td>96.30</td>\n",
       "      <td>100.00</td>\n",
       "      <td>100.00</td>\n",
       "      <td>77.50</td>\n",
       "      <td>77.50</td>\n",
       "      <td>81.73</td>\n",
       "      <td>81.73</td>\n",
       "      <td>50.0</td>\n",
       "      <td>50.0</td>\n",
       "    </tr>\n",
       "  </tbody>\n",
       "</table>\n",
       "<p>3 rows × 49 columns</p>\n",
       "</div>"
      ],
      "text/plain": [
       "         CountryName CountryCode RegionName RegionCode Jurisdiction  \\\n",
       "82584  United States         USA      Idaho      US_ID  STATE_TOTAL   \n",
       "26394       Cameroon         CMR        NaN        NaN    NAT_TOTAL   \n",
       "96328     Uzbekistan         UZB        NaN        NaN    NAT_TOTAL   \n",
       "\n",
       "            Date  C1_School closing  C1_Flag  C2_Workplace closing  C2_Flag  \\\n",
       "82584 2020-08-12                3.0      0.0                   2.0      0.0   \n",
       "26394 2020-05-04                3.0      1.0                   0.0      NaN   \n",
       "96328 2020-05-03                3.0      1.0                   3.0      1.0   \n",
       "\n",
       "       ...  StringencyIndex  StringencyIndexForDisplay  StringencyLegacyIndex  \\\n",
       "82584  ...            58.80                      58.80                  63.81   \n",
       "26394  ...            63.89                      63.89                  76.19   \n",
       "96328  ...            96.30                      96.30                 100.00   \n",
       "\n",
       "       StringencyLegacyIndexForDisplay  GovernmentResponseIndex  \\\n",
       "82584                            63.81                    50.56   \n",
       "26394                            76.19                    51.11   \n",
       "96328                           100.00                    77.50   \n",
       "\n",
       "       GovernmentResponseIndexForDisplay  ContainmentHealthIndex  \\\n",
       "82584                              50.56                   52.56   \n",
       "26394                              51.11                   58.97   \n",
       "96328                              77.50                   81.73   \n",
       "\n",
       "       ContainmentHealthIndexForDisplay  EconomicSupportIndex  \\\n",
       "82584                             52.56                  37.5   \n",
       "26394                             58.97                   0.0   \n",
       "96328                             81.73                  50.0   \n",
       "\n",
       "       EconomicSupportIndexForDisplay  \n",
       "82584                            37.5  \n",
       "26394                             0.0  \n",
       "96328                            50.0  \n",
       "\n",
       "[3 rows x 49 columns]"
      ]
     },
     "execution_count": 14,
     "metadata": {},
     "output_type": "execute_result"
    }
   ],
   "source": [
    "df.sample(3)"
   ]
  },
  {
   "cell_type": "markdown",
   "metadata": {},
   "source": [
    "### Daily change in confirmed cases\n",
    "The daily change in confirmed cases can be computed like this:"
   ]
  },
  {
   "cell_type": "code",
   "execution_count": 15,
   "metadata": {
    "ExecuteTime": {
     "end_time": "2020-12-09T15:40:06.756124Z",
     "start_time": "2020-12-09T15:40:06.703462Z"
    }
   },
   "outputs": [],
   "source": [
    "df[\"DailyChangeConfirmedCases\"] = df.groupby([\"CountryName\", \"RegionName\"]).ConfirmedCases.diff().fillna(0)"
   ]
  },
  {
   "cell_type": "markdown",
   "metadata": {},
   "source": [
    "For instance, for country **United States**, region **California**, the latest available changes in confirmed cases are:"
   ]
  },
  {
   "cell_type": "code",
   "execution_count": 16,
   "metadata": {
    "ExecuteTime": {
     "end_time": "2020-12-09T15:40:06.837025Z",
     "start_time": "2020-12-09T15:40:06.759945Z"
    }
   },
   "outputs": [],
   "source": [
    "california_df = df[(df.CountryName == \"United States\") & (df.RegionName == \"California\")]"
   ]
  },
  {
   "cell_type": "code",
   "execution_count": 17,
   "metadata": {
    "ExecuteTime": {
     "end_time": "2020-12-09T15:40:06.855956Z",
     "start_time": "2020-12-09T15:40:06.839366Z"
    }
   },
   "outputs": [
    {
     "data": {
      "text/html": [
       "<div>\n",
       "<style scoped>\n",
       "    .dataframe tbody tr th:only-of-type {\n",
       "        vertical-align: middle;\n",
       "    }\n",
       "\n",
       "    .dataframe tbody tr th {\n",
       "        vertical-align: top;\n",
       "    }\n",
       "\n",
       "    .dataframe thead th {\n",
       "        text-align: right;\n",
       "    }\n",
       "</style>\n",
       "<table border=\"1\" class=\"dataframe\">\n",
       "  <thead>\n",
       "    <tr style=\"text-align: right;\">\n",
       "      <th></th>\n",
       "      <th>CountryName</th>\n",
       "      <th>RegionName</th>\n",
       "      <th>Date</th>\n",
       "      <th>ConfirmedCases</th>\n",
       "      <th>DailyChangeConfirmedCases</th>\n",
       "    </tr>\n",
       "  </thead>\n",
       "  <tbody>\n",
       "    <tr>\n",
       "      <th>79515</th>\n",
       "      <td>United States</td>\n",
       "      <td>California</td>\n",
       "      <td>2020-12-16</td>\n",
       "      <td>1708559.0</td>\n",
       "      <td>63817.0</td>\n",
       "    </tr>\n",
       "    <tr>\n",
       "      <th>79516</th>\n",
       "      <td>United States</td>\n",
       "      <td>California</td>\n",
       "      <td>2020-12-17</td>\n",
       "      <td>1753974.0</td>\n",
       "      <td>45415.0</td>\n",
       "    </tr>\n",
       "    <tr>\n",
       "      <th>79517</th>\n",
       "      <td>United States</td>\n",
       "      <td>California</td>\n",
       "      <td>2020-12-18</td>\n",
       "      <td>1802195.0</td>\n",
       "      <td>48221.0</td>\n",
       "    </tr>\n",
       "    <tr>\n",
       "      <th>79518</th>\n",
       "      <td>United States</td>\n",
       "      <td>California</td>\n",
       "      <td>2020-12-19</td>\n",
       "      <td>1842557.0</td>\n",
       "      <td>40362.0</td>\n",
       "    </tr>\n",
       "    <tr>\n",
       "      <th>79519</th>\n",
       "      <td>United States</td>\n",
       "      <td>California</td>\n",
       "      <td>2020-12-20</td>\n",
       "      <td>NaN</td>\n",
       "      <td>0.0</td>\n",
       "    </tr>\n",
       "  </tbody>\n",
       "</table>\n",
       "</div>"
      ],
      "text/plain": [
       "         CountryName  RegionName       Date  ConfirmedCases  \\\n",
       "79515  United States  California 2020-12-16       1708559.0   \n",
       "79516  United States  California 2020-12-17       1753974.0   \n",
       "79517  United States  California 2020-12-18       1802195.0   \n",
       "79518  United States  California 2020-12-19       1842557.0   \n",
       "79519  United States  California 2020-12-20             NaN   \n",
       "\n",
       "       DailyChangeConfirmedCases  \n",
       "79515                    63817.0  \n",
       "79516                    45415.0  \n",
       "79517                    48221.0  \n",
       "79518                    40362.0  \n",
       "79519                        0.0  "
      ]
     },
     "execution_count": 17,
     "metadata": {},
     "output_type": "execute_result"
    }
   ],
   "source": [
    "california_df[[\"CountryName\", \"RegionName\", \"Date\", \"ConfirmedCases\", \"DailyChangeConfirmedCases\"]].tail(5)"
   ]
  },
  {
   "cell_type": "markdown",
   "metadata": {},
   "source": [
    "# Training a model"
   ]
  },
  {
   "cell_type": "markdown",
   "metadata": {},
   "source": [
    "## Copy the data locally"
   ]
  },
  {
   "cell_type": "code",
   "execution_count": 18,
   "metadata": {
    "ExecuteTime": {
     "end_time": "2020-12-09T15:40:09.877637Z",
     "start_time": "2020-12-09T15:40:08.007852Z"
    }
   },
   "outputs": [
    {
     "ename": "RuntimeError",
     "evalue": "Physical devices cannot be modified after being initialized",
     "output_type": "error",
     "traceback": [
      "\u001b[0;31m---------------------------------------------------------------------------\u001b[0m",
      "\u001b[0;31mRuntimeError\u001b[0m                              Traceback (most recent call last)",
      "\u001b[0;32m<ipython-input-18-7d1c1164a041>\u001b[0m in \u001b[0;36m<module>\u001b[0;34m\u001b[0m\n\u001b[1;32m      2\u001b[0m \u001b[0mgpus\u001b[0m \u001b[0;34m=\u001b[0m \u001b[0mtf\u001b[0m\u001b[0;34m.\u001b[0m\u001b[0mconfig\u001b[0m\u001b[0;34m.\u001b[0m\u001b[0mexperimental\u001b[0m\u001b[0;34m.\u001b[0m\u001b[0mlist_physical_devices\u001b[0m\u001b[0;34m(\u001b[0m\u001b[0;34m'GPU'\u001b[0m\u001b[0;34m)\u001b[0m\u001b[0;34m\u001b[0m\u001b[0;34m\u001b[0m\u001b[0m\n\u001b[1;32m      3\u001b[0m \u001b[0;32mfor\u001b[0m \u001b[0mgpu\u001b[0m \u001b[0;32min\u001b[0m \u001b[0mgpus\u001b[0m\u001b[0;34m:\u001b[0m\u001b[0;34m\u001b[0m\u001b[0;34m\u001b[0m\u001b[0m\n\u001b[0;32m----> 4\u001b[0;31m         \u001b[0mtf\u001b[0m\u001b[0;34m.\u001b[0m\u001b[0mconfig\u001b[0m\u001b[0;34m.\u001b[0m\u001b[0mexperimental\u001b[0m\u001b[0;34m.\u001b[0m\u001b[0mset_memory_growth\u001b[0m\u001b[0;34m(\u001b[0m\u001b[0mgpu\u001b[0m\u001b[0;34m,\u001b[0m \u001b[0;32mTrue\u001b[0m\u001b[0;34m)\u001b[0m\u001b[0;34m\u001b[0m\u001b[0;34m\u001b[0m\u001b[0m\n\u001b[0m\u001b[1;32m      5\u001b[0m \u001b[0mtf\u001b[0m\u001b[0;34m.\u001b[0m\u001b[0mconfig\u001b[0m\u001b[0;34m.\u001b[0m\u001b[0mexperimental\u001b[0m\u001b[0;34m.\u001b[0m\u001b[0mset_virtual_device_configuration\u001b[0m\u001b[0;34m(\u001b[0m\u001b[0mgpus\u001b[0m\u001b[0;34m[\u001b[0m\u001b[0;36m0\u001b[0m\u001b[0;34m]\u001b[0m\u001b[0;34m,\u001b[0m \u001b[0;34m[\u001b[0m\u001b[0mtf\u001b[0m\u001b[0;34m.\u001b[0m\u001b[0mconfig\u001b[0m\u001b[0;34m.\u001b[0m\u001b[0mexperimental\u001b[0m\u001b[0;34m.\u001b[0m\u001b[0mVirtualDeviceConfiguration\u001b[0m\u001b[0;34m(\u001b[0m\u001b[0mmemory_limit\u001b[0m\u001b[0;34m=\u001b[0m\u001b[0;36m1024\u001b[0m\u001b[0;34m)\u001b[0m\u001b[0;34m]\u001b[0m\u001b[0;34m)\u001b[0m\u001b[0;34m\u001b[0m\u001b[0;34m\u001b[0m\u001b[0m\n",
      "\u001b[0;32m~/anaconda3/envs/xprize/lib/python3.7/site-packages/tensorflow/python/framework/config.py\u001b[0m in \u001b[0;36mset_memory_growth\u001b[0;34m(device, enable)\u001b[0m\n\u001b[1;32m    498\u001b[0m     \u001b[0mRuntimeError\u001b[0m\u001b[0;34m:\u001b[0m \u001b[0mRuntime\u001b[0m \u001b[0;32mis\u001b[0m \u001b[0malready\u001b[0m \u001b[0minitialized\u001b[0m\u001b[0;34m.\u001b[0m\u001b[0;34m\u001b[0m\u001b[0;34m\u001b[0m\u001b[0m\n\u001b[1;32m    499\u001b[0m   \"\"\"\n\u001b[0;32m--> 500\u001b[0;31m   \u001b[0mcontext\u001b[0m\u001b[0;34m.\u001b[0m\u001b[0mcontext\u001b[0m\u001b[0;34m(\u001b[0m\u001b[0;34m)\u001b[0m\u001b[0;34m.\u001b[0m\u001b[0mset_memory_growth\u001b[0m\u001b[0;34m(\u001b[0m\u001b[0mdevice\u001b[0m\u001b[0;34m,\u001b[0m \u001b[0menable\u001b[0m\u001b[0;34m)\u001b[0m\u001b[0;34m\u001b[0m\u001b[0;34m\u001b[0m\u001b[0m\n\u001b[0m\u001b[1;32m    501\u001b[0m \u001b[0;34m\u001b[0m\u001b[0m\n\u001b[1;32m    502\u001b[0m \u001b[0;34m\u001b[0m\u001b[0m\n",
      "\u001b[0;32m~/anaconda3/envs/xprize/lib/python3.7/site-packages/tensorflow/python/eager/context.py\u001b[0m in \u001b[0;36mset_memory_growth\u001b[0;34m(self, dev, enable)\u001b[0m\n\u001b[1;32m   1324\u001b[0m     \u001b[0;32mif\u001b[0m \u001b[0mself\u001b[0m\u001b[0;34m.\u001b[0m\u001b[0m_context_handle\u001b[0m \u001b[0;32mis\u001b[0m \u001b[0;32mnot\u001b[0m \u001b[0;32mNone\u001b[0m\u001b[0;34m:\u001b[0m\u001b[0;34m\u001b[0m\u001b[0;34m\u001b[0m\u001b[0m\n\u001b[1;32m   1325\u001b[0m       raise RuntimeError(\n\u001b[0;32m-> 1326\u001b[0;31m           \"Physical devices cannot be modified after being initialized\")\n\u001b[0m\u001b[1;32m   1327\u001b[0m \u001b[0;34m\u001b[0m\u001b[0m\n\u001b[1;32m   1328\u001b[0m     \u001b[0mself\u001b[0m\u001b[0;34m.\u001b[0m\u001b[0m_memory_growth_map\u001b[0m\u001b[0;34m[\u001b[0m\u001b[0mdev\u001b[0m\u001b[0;34m]\u001b[0m \u001b[0;34m=\u001b[0m \u001b[0menable\u001b[0m\u001b[0;34m\u001b[0m\u001b[0;34m\u001b[0m\u001b[0m\n",
      "\u001b[0;31mRuntimeError\u001b[0m: Physical devices cannot be modified after being initialized"
     ]
    }
   ],
   "source": [
    "import tensorflow as tf\n",
    "gpus = tf.config.experimental.list_physical_devices('GPU')\n",
    "for gpu in gpus:\n",
    "        tf.config.experimental.set_memory_growth(gpu, True)\n",
    "tf.config.experimental.set_virtual_device_configuration(gpus[0], [tf.config.experimental.VirtualDeviceConfiguration(memory_limit=1024)])"
   ]
  },
  {
   "cell_type": "code",
   "execution_count": 1,
   "metadata": {
    "ExecuteTime": {
     "end_time": "2020-12-09T15:40:13.229495Z",
     "start_time": "2020-12-09T15:40:09.880816Z"
    }
   },
   "outputs": [
    {
     "name": "stdout",
     "output_type": "stream",
     "text": [
      "100\n"
     ]
    }
   ],
   "source": [
    "# Reload the module to get the latest changes\n",
    "# from xprize_predictor\n",
    "# from importlib import reload\n",
    "# reload(xprize_predictor)\n",
    "from xprize_predictor import XPrizePredictor, EPOCHS\n",
    "\n",
    "print(EPOCHS)"
   ]
  },
  {
   "cell_type": "code",
   "execution_count": 2,
   "metadata": {
    "ExecuteTime": {
     "end_time": "2020-12-09T15:40:17.506233Z",
     "start_time": "2020-12-09T15:40:13.232752Z"
    }
   },
   "outputs": [],
   "source": [
    "DATA_FILE = 'data/OxCGRT_latest.csv'\n",
    "predictor = XPrizePredictor(None, DATA_FILE)"
   ]
  },
  {
   "cell_type": "code",
   "execution_count": 10,
   "metadata": {
    "ExecuteTime": {
     "end_time": "2020-12-09T15:22:55.455067Z",
     "start_time": "2020-12-09T15:19:51.890084Z"
    }
   },
   "outputs": [
    {
     "name": "stdout",
     "output_type": "stream",
     "text": [
      "Creating numpy arrays for Keras for each country...\n",
      "Numpy arrays created\n",
      "Trial 0\n",
      "Epoch 1/100\n",
      "167/167 [==============================] - 1s 8ms/step - loss: 0.8037 - val_loss: 0.0988\n",
      "Epoch 2/100\n",
      "167/167 [==============================] - 1s 5ms/step - loss: 0.0800 - val_loss: 0.0718\n",
      "Epoch 3/100\n",
      "167/167 [==============================] - 1s 5ms/step - loss: 0.0721 - val_loss: 0.0711\n",
      "Epoch 4/100\n",
      "167/167 [==============================] - 1s 5ms/step - loss: 0.0702 - val_loss: 0.0770\n",
      "Epoch 5/100\n",
      "167/167 [==============================] - 1s 7ms/step - loss: 0.0694 - val_loss: 0.0686\n",
      "Epoch 6/100\n",
      "167/167 [==============================] - 1s 5ms/step - loss: 0.0699 - val_loss: 0.0704\n",
      "Epoch 7/100\n",
      "167/167 [==============================] - 1s 5ms/step - loss: 0.0677 - val_loss: 0.0686\n",
      "Epoch 8/100\n",
      "167/167 [==============================] - 1s 5ms/step - loss: 0.0638 - val_loss: 0.0625\n",
      "Epoch 9/100\n",
      "167/167 [==============================] - 1s 5ms/step - loss: 0.0613 - val_loss: 0.0636\n",
      "Epoch 10/100\n",
      "167/167 [==============================] - 1s 5ms/step - loss: 0.0592 - val_loss: 0.0618\n",
      "Epoch 11/100\n",
      "167/167 [==============================] - 1s 5ms/step - loss: 0.0576 - val_loss: 0.0664\n",
      "Epoch 12/100\n",
      "167/167 [==============================] - 1s 5ms/step - loss: 0.0569 - val_loss: 0.0591\n",
      "Epoch 13/100\n",
      "167/167 [==============================] - 1s 5ms/step - loss: 0.0566 - val_loss: 0.0671\n",
      "Epoch 14/100\n",
      "167/167 [==============================] - 1s 5ms/step - loss: 0.0564 - val_loss: 0.0575\n",
      "Epoch 15/100\n",
      "167/167 [==============================] - 1s 5ms/step - loss: 0.0552 - val_loss: 0.0571\n",
      "Epoch 16/100\n",
      "167/167 [==============================] - 1s 5ms/step - loss: 0.0555 - val_loss: 0.0570\n",
      "Epoch 17/100\n",
      "167/167 [==============================] - 1s 5ms/step - loss: 0.0546 - val_loss: 0.0564\n",
      "Epoch 18/100\n",
      "167/167 [==============================] - 1s 5ms/step - loss: 0.0544 - val_loss: 0.0700\n",
      "Epoch 19/100\n",
      "167/167 [==============================] - 1s 5ms/step - loss: 0.0547 - val_loss: 0.0579\n",
      "Epoch 20/100\n",
      "167/167 [==============================] - 1s 5ms/step - loss: 0.0542 - val_loss: 0.0563\n",
      "Epoch 21/100\n",
      "167/167 [==============================] - 1s 5ms/step - loss: 0.0551 - val_loss: 0.0580\n",
      "Epoch 22/100\n",
      "167/167 [==============================] - 1s 5ms/step - loss: 0.0546 - val_loss: 0.0592\n",
      "Epoch 23/100\n",
      "167/167 [==============================] - 1s 5ms/step - loss: 0.0543 - val_loss: 0.0569\n",
      "Epoch 24/100\n",
      "167/167 [==============================] - 1s 5ms/step - loss: 0.0543 - val_loss: 0.0556\n",
      "Epoch 25/100\n",
      "167/167 [==============================] - 1s 5ms/step - loss: 0.0547 - val_loss: 0.0568\n",
      "Epoch 26/100\n",
      "167/167 [==============================] - 1s 5ms/step - loss: 0.0538 - val_loss: 0.0621\n",
      "Epoch 27/100\n",
      "167/167 [==============================] - 1s 5ms/step - loss: 0.0542 - val_loss: 0.0565\n",
      "Epoch 28/100\n",
      "167/167 [==============================] - 1s 5ms/step - loss: 0.0528 - val_loss: 0.0552\n",
      "Epoch 29/100\n",
      "167/167 [==============================] - 1s 5ms/step - loss: 0.0527 - val_loss: 0.0553\n",
      "Epoch 30/100\n",
      "167/167 [==============================] - 1s 5ms/step - loss: 0.0530 - val_loss: 0.0551\n",
      "Epoch 31/100\n",
      "167/167 [==============================] - 1s 5ms/step - loss: 0.0530 - val_loss: 0.0570\n",
      "Epoch 32/100\n",
      "167/167 [==============================] - 1s 5ms/step - loss: 0.0541 - val_loss: 0.0550\n",
      "Epoch 33/100\n",
      "167/167 [==============================] - 1s 5ms/step - loss: 0.0542 - val_loss: 0.0562\n",
      "Epoch 34/100\n",
      "167/167 [==============================] - 1s 5ms/step - loss: 0.0527 - val_loss: 0.0570\n",
      "Epoch 35/100\n",
      "167/167 [==============================] - 1s 5ms/step - loss: 0.0526 - val_loss: 0.0588\n",
      "Epoch 36/100\n",
      "167/167 [==============================] - 1s 5ms/step - loss: 0.0530 - val_loss: 0.0547\n",
      "Epoch 37/100\n",
      "167/167 [==============================] - 1s 5ms/step - loss: 0.0531 - val_loss: 0.0556\n",
      "Epoch 38/100\n",
      "167/167 [==============================] - 1s 5ms/step - loss: 0.0531 - val_loss: 0.0555\n",
      "Epoch 39/100\n",
      "167/167 [==============================] - 1s 5ms/step - loss: 0.0525 - val_loss: 0.0552\n",
      "Epoch 40/100\n",
      "167/167 [==============================] - 1s 5ms/step - loss: 0.0525 - val_loss: 0.0561\n",
      "Epoch 41/100\n",
      "167/167 [==============================] - 1s 5ms/step - loss: 0.0528 - val_loss: 0.0544\n",
      "Epoch 42/100\n",
      "167/167 [==============================] - 1s 5ms/step - loss: 0.0541 - val_loss: 0.0580\n",
      "Epoch 43/100\n",
      "167/167 [==============================] - 1s 5ms/step - loss: 0.0529 - val_loss: 0.0543\n",
      "Epoch 44/100\n",
      "167/167 [==============================] - 1s 5ms/step - loss: 0.0524 - val_loss: 0.0542\n",
      "Epoch 45/100\n",
      "167/167 [==============================] - 1s 5ms/step - loss: 0.0527 - val_loss: 0.0543\n",
      "Epoch 46/100\n",
      "167/167 [==============================] - 1s 5ms/step - loss: 0.0529 - val_loss: 0.0546\n",
      "Epoch 47/100\n",
      "167/167 [==============================] - 1s 5ms/step - loss: 0.0521 - val_loss: 0.0600\n",
      "Epoch 48/100\n",
      "167/167 [==============================] - 1s 5ms/step - loss: 0.0523 - val_loss: 0.0542\n",
      "Epoch 49/100\n",
      "167/167 [==============================] - 1s 5ms/step - loss: 0.0532 - val_loss: 0.0553\n",
      "Epoch 50/100\n",
      "167/167 [==============================] - 1s 5ms/step - loss: 0.0533 - val_loss: 0.0600\n",
      "Epoch 51/100\n",
      "167/167 [==============================] - 1s 5ms/step - loss: 0.0536 - val_loss: 0.0544\n",
      "Epoch 52/100\n",
      "167/167 [==============================] - 1s 5ms/step - loss: 0.0525 - val_loss: 0.0543\n",
      "Epoch 53/100\n",
      "167/167 [==============================] - 1s 5ms/step - loss: 0.0520 - val_loss: 0.0541\n",
      "Epoch 54/100\n",
      "167/167 [==============================] - 1s 5ms/step - loss: 0.0537 - val_loss: 0.0542\n",
      "Epoch 55/100\n",
      "167/167 [==============================] - 1s 5ms/step - loss: 0.0528 - val_loss: 0.0558\n",
      "Epoch 56/100\n",
      "167/167 [==============================] - 1s 5ms/step - loss: 0.0529 - val_loss: 0.0550\n",
      "Epoch 57/100\n",
      "167/167 [==============================] - 1s 5ms/step - loss: 0.0533 - val_loss: 0.0605\n",
      "Epoch 58/100\n",
      "167/167 [==============================] - 1s 5ms/step - loss: 0.0531 - val_loss: 0.0548\n",
      "Epoch 59/100\n",
      "167/167 [==============================] - 1s 5ms/step - loss: 0.0522 - val_loss: 0.0542\n",
      "Epoch 60/100\n",
      "167/167 [==============================] - 1s 5ms/step - loss: 0.0524 - val_loss: 0.0543\n",
      "Epoch 61/100\n",
      "167/167 [==============================] - 1s 5ms/step - loss: 0.0528 - val_loss: 0.0630\n",
      "Epoch 62/100\n",
      "167/167 [==============================] - 1s 5ms/step - loss: 0.0529 - val_loss: 0.0542\n",
      "Epoch 63/100\n",
      "167/167 [==============================] - 1s 5ms/step - loss: 0.0519 - val_loss: 0.0542\n",
      "Epoch 64/100\n",
      "167/167 [==============================] - 1s 5ms/step - loss: 0.0531 - val_loss: 0.0553\n",
      "Epoch 65/100\n",
      "167/167 [==============================] - 1s 5ms/step - loss: 0.0533 - val_loss: 0.0543\n",
      "Epoch 66/100\n",
      "167/167 [==============================] - 1s 5ms/step - loss: 0.0530 - val_loss: 0.0547\n",
      "Epoch 67/100\n",
      "167/167 [==============================] - 1s 5ms/step - loss: 0.0526 - val_loss: 0.0567\n",
      "Epoch 68/100\n",
      "167/167 [==============================] - 1s 5ms/step - loss: 0.0526 - val_loss: 0.0544\n",
      "Epoch 69/100\n",
      "167/167 [==============================] - 1s 5ms/step - loss: 0.0527 - val_loss: 0.0606\n",
      "Epoch 70/100\n",
      "167/167 [==============================] - 1s 5ms/step - loss: 0.0529 - val_loss: 0.0558\n",
      "Epoch 71/100\n",
      "167/167 [==============================] - 1s 5ms/step - loss: 0.0535 - val_loss: 0.0550\n",
      "Epoch 72/100\n",
      "167/167 [==============================] - 1s 5ms/step - loss: 0.0523 - val_loss: 0.0541\n",
      "Epoch 73/100\n",
      "167/167 [==============================] - 1s 5ms/step - loss: 0.0524 - val_loss: 0.0555\n",
      "Epoch 74/100\n",
      "167/167 [==============================] - 1s 5ms/step - loss: 0.0522 - val_loss: 0.0549\n",
      "Epoch 75/100\n",
      "167/167 [==============================] - 1s 5ms/step - loss: 0.0526 - val_loss: 0.0584\n",
      "Epoch 76/100\n",
      "167/167 [==============================] - 1s 5ms/step - loss: 0.0531 - val_loss: 0.0554\n",
      "Epoch 77/100\n",
      "167/167 [==============================] - 1s 5ms/step - loss: 0.0525 - val_loss: 0.0546\n",
      "Epoch 78/100\n",
      "167/167 [==============================] - 1s 5ms/step - loss: 0.0520 - val_loss: 0.0561\n",
      "Epoch 79/100\n",
      "167/167 [==============================] - 1s 5ms/step - loss: 0.0524 - val_loss: 0.0542\n",
      "Epoch 80/100\n"
     ]
    },
    {
     "name": "stdout",
     "output_type": "stream",
     "text": [
      "167/167 [==============================] - 1s 5ms/step - loss: 0.0522 - val_loss: 0.0565\n",
      "Epoch 81/100\n",
      "167/167 [==============================] - 1s 5ms/step - loss: 0.0517 - val_loss: 0.0541\n",
      "Epoch 82/100\n",
      "167/167 [==============================] - 1s 5ms/step - loss: 0.0523 - val_loss: 0.0557\n",
      "Epoch 83/100\n",
      "167/167 [==============================] - 1s 5ms/step - loss: 0.0524 - val_loss: 0.0545\n",
      "Epoch 84/100\n",
      "167/167 [==============================] - 1s 5ms/step - loss: 0.0518 - val_loss: 0.0543\n",
      "Epoch 85/100\n",
      "167/167 [==============================] - 1s 5ms/step - loss: 0.0527 - val_loss: 0.0542\n",
      "Epoch 86/100\n",
      "167/167 [==============================] - 1s 5ms/step - loss: 0.0522 - val_loss: 0.0544\n",
      "Epoch 87/100\n",
      "167/167 [==============================] - 1s 5ms/step - loss: 0.0520 - val_loss: 0.0541\n",
      "Epoch 88/100\n",
      "167/167 [==============================] - 1s 5ms/step - loss: 0.0519 - val_loss: 0.0541\n",
      "Epoch 89/100\n",
      "167/167 [==============================] - 1s 5ms/step - loss: 0.0520 - val_loss: 0.0546\n",
      "Epoch 90/100\n",
      "167/167 [==============================] - 1s 6ms/step - loss: 0.0516 - val_loss: 0.0541\n",
      "Epoch 91/100\n",
      "167/167 [==============================] - 1s 5ms/step - loss: 0.0528 - val_loss: 0.0541\n",
      "Epoch 92/100\n",
      "167/167 [==============================] - 1s 5ms/step - loss: 0.0526 - val_loss: 0.0549\n",
      "Epoch 93/100\n",
      "167/167 [==============================] - 1s 5ms/step - loss: 0.0523 - val_loss: 0.0541\n",
      "Epoch 94/100\n",
      "167/167 [==============================] - 1s 5ms/step - loss: 0.0519 - val_loss: 0.0558\n",
      "Epoch 95/100\n",
      "167/167 [==============================] - 1s 5ms/step - loss: 0.0519 - val_loss: 0.0541\n",
      "Epoch 96/100\n",
      "167/167 [==============================] - 1s 5ms/step - loss: 0.0519 - val_loss: 0.0554\n",
      "Epoch 97/100\n",
      "167/167 [==============================] - 1s 5ms/step - loss: 0.0523 - val_loss: 0.0540\n",
      "Epoch 98/100\n",
      "167/167 [==============================] - 1s 5ms/step - loss: 0.0518 - val_loss: 0.0547\n",
      "Epoch 99/100\n",
      "167/167 [==============================] - 1s 5ms/step - loss: 0.0524 - val_loss: 0.0541\n",
      "Epoch 100/100\n",
      "167/167 [==============================] - 1s 5ms/step - loss: 0.0523 - val_loss: 0.0585\n",
      "185/185 [==============================] - 0s 3ms/step - loss: 0.0557\n",
      "Train Loss: 0.05231422558426857\n",
      "Val Loss: 0.054010048508644104\n",
      "Test Loss: 0.05569864436984062\n",
      "Done\n"
     ]
    }
   ],
   "source": [
    "predictor_model = predictor.train()"
   ]
  },
  {
   "cell_type": "code",
   "execution_count": 9,
   "metadata": {
    "ExecuteTime": {
     "end_time": "2020-12-09T15:40:19.427684Z",
     "start_time": "2020-12-09T15:40:17.508540Z"
    }
   },
   "outputs": [
    {
     "name": "stdout",
     "output_type": "stream",
     "text": [
      "Failed to import pydot. You must install pydot and graphviz for `pydotprint` to work.\n"
     ]
    }
   ],
   "source": [
    "from tensorflow.keras.utils import plot_model\n",
    "\n",
    "plot_model(predictor.predictor)"
   ]
  },
  {
   "cell_type": "code",
   "execution_count": 6,
   "metadata": {},
   "outputs": [],
   "source": [
    "import os\n",
    "if not os.path.exists('models'):\n",
    "    os.mkdir('models')\n",
    "predictor_model.save_weights(\"models/trained_model_weights.h5\")"
   ]
  },
  {
   "cell_type": "markdown",
   "metadata": {},
   "source": [
    "# Predicting using a trained model"
   ]
  },
  {
   "cell_type": "markdown",
   "metadata": {},
   "source": [
    "## Load candidate model"
   ]
  },
  {
   "cell_type": "code",
   "execution_count": null,
   "metadata": {},
   "outputs": [],
   "source": [
    "model_weights_file = \"models/trained_model_weights.h5\""
   ]
  },
  {
   "cell_type": "code",
   "execution_count": null,
   "metadata": {},
   "outputs": [],
   "source": [
    "predictor = XPrizePredictor(model_weights_file, DATA_FILE)"
   ]
  },
  {
   "cell_type": "markdown",
   "metadata": {},
   "source": [
    "## Make prediction"
   ]
  },
  {
   "cell_type": "code",
   "execution_count": null,
   "metadata": {},
   "outputs": [],
   "source": [
    "NPIS_INPUT_FILE = \"../../../validation/data/2020-09-30_historical_ip.csv\"\n",
    "start_date = \"2020-08-01\"\n",
    "end_date = \"2020-08-31\""
   ]
  },
  {
   "cell_type": "code",
   "execution_count": null,
   "metadata": {},
   "outputs": [],
   "source": [
    "%%time\n",
    "preds_df = predictor.predict(start_date, end_date, NPIS_INPUT_FILE)"
   ]
  },
  {
   "cell_type": "code",
   "execution_count": null,
   "metadata": {},
   "outputs": [],
   "source": [
    "preds_df.head()"
   ]
  },
  {
   "cell_type": "markdown",
   "metadata": {},
   "source": [
    "# Validation\n",
    "This is how the predictor is going to be called during the competition.  \n",
    "!!! PLEASE DO NOT CHANGE THE API !!!"
   ]
  },
  {
   "cell_type": "code",
   "execution_count": null,
   "metadata": {},
   "outputs": [],
   "source": [
    "!python predict.py -s 2020-08-01 -e 2020-08-04 -ip ../../../validation/data/2020-09-30_historical_ip.csv -o predictions/2020-08-01_2020-08-04.csv"
   ]
  },
  {
   "cell_type": "code",
   "execution_count": null,
   "metadata": {},
   "outputs": [],
   "source": [
    "!head predictions/2020-08-01_2020-08-04.csv"
   ]
  },
  {
   "cell_type": "markdown",
   "metadata": {},
   "source": [
    "# Test cases\n",
    "We can generate a prediction file. Let's validate a few cases..."
   ]
  },
  {
   "cell_type": "code",
   "execution_count": null,
   "metadata": {},
   "outputs": [],
   "source": [
    "# Check the pediction file is valid\n",
    "import os\n",
    "from covid_xprize.validation.predictor_validation import validate_submission\n",
    "\n",
    "def validate(start_date, end_date, ip_file, output_file):\n",
    "    # First, delete any potential old file\n",
    "    try:\n",
    "        os.remove(output_file)\n",
    "    except OSError:\n",
    "        pass\n",
    "    \n",
    "    # Then generate the prediction, calling the official API\n",
    "    !python predict.py -s {start_date} -e {end_date} -ip {ip_file} -o {output_file}\n",
    "    \n",
    "    # And validate it\n",
    "    errors = validate_submission(start_date, end_date, ip_file, output_file)\n",
    "    if errors:\n",
    "        for error in errors:\n",
    "            print(error)\n",
    "    else:\n",
    "        print(\"All good!\")"
   ]
  },
  {
   "cell_type": "markdown",
   "metadata": {},
   "source": [
    "## 4 days, no gap\n",
    "- All countries and regions\n",
    "- Official number of cases is known up to start_date\n",
    "- Intervention Plans are the official ones"
   ]
  },
  {
   "cell_type": "code",
   "execution_count": null,
   "metadata": {},
   "outputs": [],
   "source": [
    "validate(start_date=\"2020-08-01\",\n",
    "         end_date=\"2020-08-04\",\n",
    "         ip_file=\"../../../validation/data/2020-09-30_historical_ip.csv\",\n",
    "         output_file=\"predictions/val_4_days.csv\")"
   ]
  },
  {
   "cell_type": "markdown",
   "metadata": {},
   "source": [
    "## 1 month in the future\n",
    "- 2 countries only\n",
    "- there's a gap between date of last known number of cases and start_date\n",
    "- For future dates, Intervention Plans contains scenarios for which predictions are requested to answer the question: what will happen if we apply these plans?"
   ]
  },
  {
   "cell_type": "code",
   "execution_count": null,
   "metadata": {},
   "outputs": [],
   "source": [
    "%%time\n",
    "validate(start_date=\"2021-01-01\",\n",
    "         end_date=\"2021-01-31\",\n",
    "         ip_file=\"../../../validation/data/future_ip.csv\",\n",
    "         output_file=\"predictions/val_1_month_future.csv\")"
   ]
  },
  {
   "cell_type": "markdown",
   "metadata": {},
   "source": [
    "## 180 days, from a future date, all countries and regions\n",
    "- Prediction start date is 1 week from now. (i.e. assuming submission date is 1 week from now)  \n",
    "- Prediction end date is 6 months after start date.  \n",
    "- Prediction is requested for all available countries and regions.  \n",
    "- Intervention plan scenario: freeze last known intervention plans for each country and region.  \n",
    "\n",
    "As the number of cases is not known yet between today and start date, but the model relies on them, the model has to predict them in order to use them.  \n",
    "This test is the most demanding test. It should take less than 1 hour to generate the prediction file."
   ]
  },
  {
   "cell_type": "markdown",
   "metadata": {},
   "source": [
    "### Generate the scenario"
   ]
  },
  {
   "cell_type": "code",
   "execution_count": null,
   "metadata": {},
   "outputs": [],
   "source": [
    "from datetime import datetime, timedelta\n",
    "\n",
    "start_date = datetime.now() + timedelta(days=7)\n",
    "start_date_str = start_date.strftime('%Y-%m-%d')\n",
    "end_date = start_date + timedelta(days=180)\n",
    "end_date_str = end_date.strftime('%Y-%m-%d')\n",
    "print(f\"Start date: {start_date_str}\")\n",
    "print(f\"End date: {end_date_str}\")"
   ]
  },
  {
   "cell_type": "code",
   "execution_count": null,
   "metadata": {},
   "outputs": [],
   "source": [
    "from covid_xprize.validation.scenario_generator import get_raw_data, generate_scenario, NPI_COLUMNS\n",
    "DATA_FILE = 'data/OxCGRT_latest.csv'\n",
    "latest_df = get_raw_data(DATA_FILE, latest=True)\n",
    "scenario_df = generate_scenario(start_date_str, end_date_str, latest_df, countries=None, scenario=\"Freeze\")\n",
    "scenario_file = \"predictions/180_days_future_scenario.csv\"\n",
    "scenario_df.to_csv(scenario_file, index=False)\n",
    "print(f\"Saved scenario to {scenario_file}\")"
   ]
  },
  {
   "cell_type": "markdown",
   "metadata": {},
   "source": [
    "### Check it"
   ]
  },
  {
   "cell_type": "code",
   "execution_count": null,
   "metadata": {},
   "outputs": [],
   "source": [
    "%%time\n",
    "validate(start_date=start_date_str,\n",
    "         end_date=end_date_str,\n",
    "         ip_file=scenario_file,\n",
    "         output_file=\"predictions/val_6_month_future.csv\")"
   ]
  },
  {
   "cell_type": "code",
   "execution_count": null,
   "metadata": {},
   "outputs": [],
   "source": []
  }
 ],
 "metadata": {
  "kernelspec": {
   "display_name": "Python 3",
   "language": "python",
   "name": "python3"
  },
  "language_info": {
   "codemirror_mode": {
    "name": "ipython",
    "version": 3
   },
   "file_extension": ".py",
   "mimetype": "text/x-python",
   "name": "python",
   "nbconvert_exporter": "python",
   "pygments_lexer": "ipython3",
   "version": "3.7.9"
  },
  "pycharm": {
   "stem_cell": {
    "cell_type": "raw",
    "metadata": {
     "collapsed": false
    },
    "source": [
     "# Copyright 2020 (c) Cognizant Digital Business, Evolutionary AI. All rights reserved. Issued under the Apache 2.0 License."
    ]
   }
  },
  "toc": {
   "base_numbering": 1,
   "nav_menu": {},
   "number_sections": true,
   "sideBar": true,
   "skip_h1_title": false,
   "title_cell": "Table of Contents",
   "title_sidebar": "Contents",
   "toc_cell": false,
   "toc_position": {},
   "toc_section_display": true,
   "toc_window_display": false
  }
 },
 "nbformat": 4,
 "nbformat_minor": 4
}
